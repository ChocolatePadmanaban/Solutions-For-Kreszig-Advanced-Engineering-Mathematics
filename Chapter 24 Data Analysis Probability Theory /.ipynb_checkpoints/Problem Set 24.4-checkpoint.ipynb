{
 "cells": [
  {
   "cell_type": "code",
   "execution_count": 56,
   "id": "08d92666",
   "metadata": {},
   "outputs": [],
   "source": [
    "import itertools , math\n",
    "import pandas as pd"
   ]
  },
  {
   "cell_type": "raw",
   "id": "cd2e81dd",
   "metadata": {},
   "source": [
    "Problem 1 : In how many ways can a company assign 10 drivers to n buses, one driver to each bus and conversely?"
   ]
  },
  {
   "cell_type": "markdown",
   "id": "5e5c4df9",
   "metadata": {},
   "source": [
    "       10!/(10-n)!"
   ]
  },
  {
   "cell_type": "raw",
   "id": "c445d3bc",
   "metadata": {},
   "source": [
    "Problem 2 : List (a) all permutations, (b) all combinations without repetitions, (c) all combinations with repetitions, of 5 letters a, e, i, o, u taken 2 at a time."
   ]
  },
  {
   "cell_type": "code",
   "execution_count": 21,
   "id": "9e9088be",
   "metadata": {},
   "outputs": [
    {
     "name": "stdout",
     "output_type": "stream",
     "text": [
      "All permutations repetitions, of 5 letters a, e, i, o, u taken 2 at a time:\n",
      "ae ai ao au ea ei eo eu ia ie io iu oa oe oi ou ua ue ui uo \n",
      "\n",
      "All combinations without repetitions, of 5 letters a, e, i, o, u taken 2 at a time:\n",
      "ae ai ao au ei eo eu io iu ou \n",
      "\n",
      "All combinations with repetitions, of 5 letters a, e, i, o, u taken 2 at a time:\n",
      "aa ae ai ao au ee ei eo eu ii io iu oo ou uu \n",
      "\n"
     ]
    }
   ],
   "source": [
    "print(\"All permutations repetitions, of 5 letters a, e, i, o, u taken 2 at a time:\")\n",
    "list_of_permutations = itertools.permutations('aeiou', 2)\n",
    "for permu in list_of_permutations:\n",
    "    print(''.join(permu), end=\" \")\n",
    "print('\\n')\n",
    "\n",
    "print(\"All combinations without repetitions, of 5 letters a, e, i, o, u taken 2 at a time:\")\n",
    "list_of_combinations = itertools.combinations('aeiou', 2)\n",
    "for comb in list_of_combinations:\n",
    "    print(''.join(comb), end=\" \")\n",
    "print('\\n')\n",
    "\n",
    "print(\"All combinations with repetitions, of 5 letters a, e, i, o, u taken 2 at a time:\")\n",
    "list_of_combinations = itertools.combinations_with_replacement('aeiou',2)\n",
    "for comb in list_of_combinations:\n",
    "    print(''.join(comb),end=\" \")\n",
    "print('\\n')"
   ]
  },
  {
   "cell_type": "code",
   "execution_count": 25,
   "id": "424c2738",
   "metadata": {},
   "outputs": [
    {
     "name": "stdout",
     "output_type": "stream",
     "text": [
      "No of All permutations repetitions, of 5 letters a, e, i, o, u taken 2 at a time: 20.0 \n",
      "\n",
      "No of All permutations repetitions, of 5 letters a, e, i, o, u taken 2 at a time: 10.0 \n",
      "\n",
      "No of All permutations repetitions, of 5 letters a, e, i, o, u taken 2 at a time: 15.0\n"
     ]
    }
   ],
   "source": [
    "print(\"No of All permutations repetitions, of 5 letters a, e, i, o, u taken 2 at a time:\", \n",
    "      math.factorial(5)/math.factorial(3), '\\n')\n",
    "print(\"No of All permutations repetitions, of 5 letters a, e, i, o, u taken 2 at a time:\", \n",
    "      math.factorial(5)/math.factorial(2)/math.factorial(3), '\\n')\n",
    "print(\"No of All permutations repetitions, of 5 letters a, e, i, o, u taken 2 at a time:\", \n",
    "      math.factorial(5+2-1)/math.factorial(2)/math.factorial(5-1))"
   ]
  },
  {
   "cell_type": "raw",
   "id": "4a7e84ca",
   "metadata": {},
   "source": [
    "Problem 3 :  If a box contains 4 rubber gaskets and 2 plastic gaskets, what is the probability of drawing (a) first the plastic and then the rubber gaskets, (b) first the rubber and then the plastic ones? Do this by using a theorem and checking it by multiplying probabilities."
   ]
  },
  {
   "cell_type": "code",
   "execution_count": 32,
   "id": "68ac0b06",
   "metadata": {},
   "outputs": [
    {
     "name": "stdout",
     "output_type": "stream",
     "text": [
      "Results by Probility theorm: \n",
      "\n",
      "If a box contains 4 rubber gaskets and 2 plastic gaskets, what is the probability of drawing (a) first the plastic and then the rubber gaskets\n",
      "= 2*1/6/5 =  0.06666666666666667\n",
      "(b) first the rubber and then the plastic ones? =  4! * 2! / 6! =  0.06666666666666667\n"
     ]
    }
   ],
   "source": [
    "print('Results by Probility theorm: \\n')\n",
    "print('If a box contains 4 rubber gaskets and 2 plastic gaskets, what is the probability of drawing (a) first the plastic and then the rubber gaskets')\n",
    "print('= 2*1/6/5 = ', 2*1/6/5)\n",
    "print('(b) first the rubber and then the plastic ones? =  4! * 2! / 6! = ',math.factorial(4)*2/math.factorial(6))"
   ]
  },
  {
   "cell_type": "code",
   "execution_count": 33,
   "id": "9edcc20d",
   "metadata": {},
   "outputs": [
    {
     "name": "stdout",
     "output_type": "stream",
     "text": [
      "Checking it by multiple probabilities : \n",
      "\n",
      "If a box contains 4 rubber gaskets and 2 plastic gaskets, what is the probability of drawing (a) first the plastic and then the rubber gaskets\n",
      "= math.factorial(4)*2/math.factorial(6)  =  0.06666666666666667\n",
      "(b) first the rubber and then the plastic ones? =  4! * 2! / 6! =  0.06666666666666667\n"
     ]
    }
   ],
   "source": [
    "print('Checking it by multiple probabilities : \\n')\n",
    "print('If a box contains 4 rubber gaskets and 2 plastic gaskets, what is the probability of drawing (a) first the plastic and then the rubber gaskets')\n",
    "print('= math.factorial(4)*2/math.factorial(6)  = ', math.factorial(4)*2/math.factorial(6))\n",
    "print('(b) first the rubber and then the plastic ones? =  4! * 2! / 6! = ',math.factorial(4)*2/math.factorial(6))"
   ]
  },
  {
   "cell_type": "raw",
   "id": "0ea40a38",
   "metadata": {},
   "source": [
    "Problem 4 : An urn contains 2 green, 3 yellow, and 5 red balls. We draw 1 ball at random and put it aside. Then we draw the next ball, and so on. Find the probability of drawing at first the 2 green balls, then the 3 yellow ones, and\n",
    "finally the red ones."
   ]
  },
  {
   "cell_type": "code",
   "execution_count": 34,
   "id": "b804bf34",
   "metadata": {},
   "outputs": [
    {
     "name": "stdout",
     "output_type": "stream",
     "text": [
      "An urn contains 2 green, 3 yellow, and 5 red balls. We draw 1 ball at random and put it aside. Then we draw the next ball, and so on. Find the probability of drawing at first the 2 green balls, then the 3 yellow ones, and finally the red ones.\n",
      "= 2! * 3! * 5!/ 10! = 0.0003968253968253968\n"
     ]
    }
   ],
   "source": [
    "print(\"An urn contains 2 green, 3 yellow, and 5 red balls. We draw 1 ball at random and put it aside. Then we draw the next ball, and so on. Find the probability of drawing at first the 2 green balls, then the 3 yellow ones, and finally the red ones.\")\n",
    "print('= 2! * 3! * 5!/ 10! =', 2*math.factorial(3)*math.factorial(5)/math.factorial(10))"
   ]
  },
  {
   "cell_type": "raw",
   "id": "cef5126d",
   "metadata": {},
   "source": [
    "Problem 5 : In how many different ways can we select a committee\n",
    "consisting of 3 engineers, 2 physicists, and 2 computer scientists from 10 engineers, 5 physicists, and 6 computer scientists? First guess."
   ]
  },
  {
   "cell_type": "code",
   "execution_count": 38,
   "id": "1fd3d582",
   "metadata": {},
   "outputs": [
    {
     "name": "stdout",
     "output_type": "stream",
     "text": [
      "No of ways to select 3 engineers from 10 =  120\n",
      "No of ways to select 2 physicists from 5 =  10\n",
      "No of ways to select 2 Scientists from 6 =  15\n",
      "Total no of ways is =  18000\n"
     ]
    }
   ],
   "source": [
    "print(\"No of ways to select 3 engineers from 10 = \", math.comb(10,3))\n",
    "print('No of ways to select 2 physicists from 5 = ', math.comb(5,2))\n",
    "print('No of ways to select 2 Scientists from 6 = ', math.comb(6,2))\n",
    "print('Total no of ways is = ', math.comb(10,3)*math.comb(5,2)*math.comb(6,2))"
   ]
  },
  {
   "cell_type": "raw",
   "id": "3ffdd45f",
   "metadata": {},
   "source": [
    "Problem 6 : How many different samples of 4 objects can we draw from a lot of 50?"
   ]
  },
  {
   "cell_type": "code",
   "execution_count": 39,
   "id": "158b2706",
   "metadata": {},
   "outputs": [
    {
     "name": "stdout",
     "output_type": "stream",
     "text": [
      "math.comb(50,4)=  230300\n"
     ]
    }
   ],
   "source": [
    "print('math.comb(50,4)= ', math.comb(50,4))"
   ]
  },
  {
   "cell_type": "raw",
   "id": "61a03102",
   "metadata": {},
   "source": [
    "Problem 7 : Of a lot of 10 items, 2 are defective. (a) Find the number of different samples of 4. Find the number of samples of 4 containing (b) no defectives, (c) 1 defective, (d) 2 defectives."
   ]
  },
  {
   "cell_type": "code",
   "execution_count": 41,
   "id": "be37497c",
   "metadata": {},
   "outputs": [
    {
     "name": "stdout",
     "output_type": "stream",
     "text": [
      "No of ways to choose 4 items from 10 = comb(10,4) =  210\n",
      "No of ways to choose 4 items from 8 (non-defective items) = comb(8,4) =  70\n",
      "No of ways to choose 3 items from 8 non-defect and 1 from 2 defect = comb(8,3)*comb(2,1) =  112\n",
      "No of ways to choose 2 items from 8 non-defect and 2 from 2 defect = comb(8,2)*comb(2,2) =  28\n",
      "Probability of ways to choose 4 items from 8 (non-defective items) =  0.3333333333333333\n",
      "Probability of ways to choose 3 items from 8 non-defect and 1 from 2 defect =  0.5333333333333333\n",
      "Probability of ways to choose 2 items from 8 non-defect and 2 from 2 defect =  0.13333333333333333\n"
     ]
    }
   ],
   "source": [
    "print('No of ways to choose 4 items from 10 = comb(10,4) = ', math.comb(10, 4))\n",
    "print('No of ways to choose 4 items from 8 (non-defective items) = comb(8,4) = ', math.comb(8, 4))\n",
    "print('No of ways to choose 3 items from 8 non-defect and 1 from 2 defect = comb(8,3)*comb(2,1) = ', \n",
    "     math.comb(8,3)*math.comb(2,1))\n",
    "print('No of ways to choose 2 items from 8 non-defect and 2 from 2 defect = comb(8,2)*comb(2,2) = ',\n",
    "     math.comb(8,2)*math.comb(2,2))\n",
    "print('Probability of ways to choose 4 items from 8 (non-defective items) = ',math.comb(8, 4)/math.comb(10, 4) )\n",
    "print('Probability of ways to choose 3 items from 8 non-defect and 1 from 2 defect = ', \n",
    "     math.comb(8,3)*math.comb(2,1)/math.comb(10,4))\n",
    "print('Probability of ways to choose 2 items from 8 non-defect and 2 from 2 defect = ', \n",
    "     math.comb(8,2)*math.comb(2,2)/math.comb(10,4))"
   ]
  },
  {
   "cell_type": "raw",
   "id": "6996a14c",
   "metadata": {},
   "source": [
    "Problem 8: Determine the number of different bridge hands. (A bridge hand consists of 13 cards selected from a full deck of 52 cards.)"
   ]
  },
  {
   "cell_type": "raw",
   "id": "c5818e17",
   "metadata": {},
   "source": [
    "Problem 9 : In how many different ways can 6 people be seated at a round table?"
   ]
  },
  {
   "cell_type": "code",
   "execution_count": 44,
   "id": "fe0ef2d9",
   "metadata": {},
   "outputs": [
    {
     "name": "stdout",
     "output_type": "stream",
     "text": [
      "different ways can 6 people be seated at a round table = Permbutaion(6,6)/(6 =>no of seat) = 120.0\n"
     ]
    }
   ],
   "source": [
    "print('different ways can 6 people be seated at a round table = Permbutaion(6,6)/(6 =>no of seat) =', math.perm(6,6)/6)"
   ]
  },
  {
   "cell_type": "raw",
   "id": "ac2516c1",
   "metadata": {},
   "source": [
    "Problem 10 : If a cage contains 100 mice, 3 of which are male, what is the probability that the 3 male mice will be included if 10 mice are randomly selected?"
   ]
  },
  {
   "cell_type": "code",
   "execution_count": 45,
   "id": "51bb0308",
   "metadata": {},
   "outputs": [
    {
     "name": "stdout",
     "output_type": "stream",
     "text": [
      "If a cage contains 100 mice, 3 of which are male, what is the probability that the 3 male mice will be included if 10 mice are randomly selected =  0.0009247414577007845\n"
     ]
    }
   ],
   "source": [
    "print('If a cage contains 100 mice, 3 of which are male, what is the probability that the 3 male mice will be included if 10 mice are randomly selected = ',\n",
    "     math.comb(100, 7)*math.comb(3,3)/math.comb(100,10))"
   ]
  },
  {
   "cell_type": "raw",
   "id": "313f6855",
   "metadata": {},
   "source": [
    "Problem 11 : How many automobile registrations may the police have to check in a hit-and-run accident if a witness reports KDP7 and cannot remember the last two digits on the license plate but is certain that all three digits were different?"
   ]
  },
  {
   "cell_type": "code",
   "execution_count": 46,
   "id": "c08fdb70",
   "metadata": {},
   "outputs": [
    {
     "name": "stdout",
     "output_type": "stream",
     "text": [
      "the police have to check in a hit-and-run accident if a witness reports KDP7 and cannot remember the last two digits on the license plate but is certain that all three digits were different = perm(9,2) as 7 is already present =  72\n"
     ]
    }
   ],
   "source": [
    "print(\"the police have to check in a hit-and-run accident if a witness reports KDP7 and cannot remember the last two digits on the license plate but is certain that all three digits were different\",\n",
    "     '= perm(9,2) as 7 is already present = ' , math.perm(9,2))"
   ]
  },
  {
   "cell_type": "raw",
   "id": "30f193f9",
   "metadata": {},
   "source": [
    "Problem 12 : If 3 suspects who committed a burglary and 6 innocent persons are lined up, what is the probability that a witness who is not sure and has to pick three persons will pick the three suspects by chance? That the witness picks 3 innocent persons by chance?"
   ]
  },
  {
   "cell_type": "code",
   "execution_count": 47,
   "id": "770c0c9e",
   "metadata": {},
   "outputs": [
    {
     "name": "stdout",
     "output_type": "stream",
     "text": [
      "Probability that a witness who is not sure and has to pick three persons will pick the three suspects by chance \n",
      " = 1/ comb(9,3) =  0.011904761904761904\n",
      "Probability that the witness picks 3 innocent persons by chance = comb(6,3)/comb(9,3) = 0.23809523809523808\n"
     ]
    }
   ],
   "source": [
    "print('Probability that a witness who is not sure and has to pick three persons will pick the three suspects by chance \\n',\n",
    "     '= 1/ comb(9,3) = ' , 1/math.comb(9,3))\n",
    "print('Probability that the witness picks 3 innocent persons by chance = comb(6,3)/comb(9,3) =', \n",
    "     math.comb(6,3)/math.comb(9,3))"
   ]
  },
  {
   "cell_type": "raw",
   "id": "b052bb9c",
   "metadata": {},
   "source": [
    "Problem 13 : CAS PROJECT. Stirling formula. (a) Using (7), compute approximate values of n! for n 􏰀 1, Á , 20. (b) Determine the relative error in (a). Find an empirical formula for that relative error.\n",
    "(c) An upper bound for that relative error is e1>12n 􏰁 1. Try to relate your empirical formula to this. (d) Searchthroughtheliteratureforfurtherinformation on Stirling’s formula. Write a short eassy about your findings, arranged in logical order and illustrated with\n",
    "numeric examples."
   ]
  },
  {
   "cell_type": "code",
   "execution_count": 68,
   "id": "db68188a",
   "metadata": {},
   "outputs": [
    {
     "data": {
      "text/html": [
       "<div>\n",
       "<style scoped>\n",
       "    .dataframe tbody tr th:only-of-type {\n",
       "        vertical-align: middle;\n",
       "    }\n",
       "\n",
       "    .dataframe tbody tr th {\n",
       "        vertical-align: top;\n",
       "    }\n",
       "\n",
       "    .dataframe thead th {\n",
       "        text-align: right;\n",
       "    }\n",
       "</style>\n",
       "<table border=\"1\" class=\"dataframe\">\n",
       "  <thead>\n",
       "    <tr style=\"text-align: right;\">\n",
       "      <th></th>\n",
       "      <th>Factorial</th>\n",
       "      <th>Stirling</th>\n",
       "      <th>Relative error</th>\n",
       "    </tr>\n",
       "    <tr>\n",
       "      <th>n</th>\n",
       "      <th></th>\n",
       "      <th></th>\n",
       "      <th></th>\n",
       "    </tr>\n",
       "  </thead>\n",
       "  <tbody>\n",
       "    <tr>\n",
       "      <th>1</th>\n",
       "      <td>1</td>\n",
       "      <td>9.221370e-01</td>\n",
       "      <td>8.443755</td>\n",
       "    </tr>\n",
       "    <tr>\n",
       "      <th>2</th>\n",
       "      <td>2</td>\n",
       "      <td>1.919004e+00</td>\n",
       "      <td>4.220712</td>\n",
       "    </tr>\n",
       "    <tr>\n",
       "      <th>3</th>\n",
       "      <td>6</td>\n",
       "      <td>5.836210e+00</td>\n",
       "      <td>2.806452</td>\n",
       "    </tr>\n",
       "    <tr>\n",
       "      <th>4</th>\n",
       "      <td>24</td>\n",
       "      <td>2.350618e+01</td>\n",
       "      <td>2.100830</td>\n",
       "    </tr>\n",
       "    <tr>\n",
       "      <th>5</th>\n",
       "      <td>120</td>\n",
       "      <td>1.180192e+02</td>\n",
       "      <td>1.678399</td>\n",
       "    </tr>\n",
       "    <tr>\n",
       "      <th>6</th>\n",
       "      <td>720</td>\n",
       "      <td>7.100782e+02</td>\n",
       "      <td>1.397285</td>\n",
       "    </tr>\n",
       "    <tr>\n",
       "      <th>7</th>\n",
       "      <td>5040</td>\n",
       "      <td>4.980396e+03</td>\n",
       "      <td>1.196776</td>\n",
       "    </tr>\n",
       "    <tr>\n",
       "      <th>8</th>\n",
       "      <td>40320</td>\n",
       "      <td>3.990240e+04</td>\n",
       "      <td>1.046565</td>\n",
       "    </tr>\n",
       "    <tr>\n",
       "      <th>9</th>\n",
       "      <td>362880</td>\n",
       "      <td>3.595369e+05</td>\n",
       "      <td>0.929843</td>\n",
       "    </tr>\n",
       "    <tr>\n",
       "      <th>10</th>\n",
       "      <td>3628800</td>\n",
       "      <td>3.598696e+06</td>\n",
       "      <td>0.836536</td>\n",
       "    </tr>\n",
       "    <tr>\n",
       "      <th>11</th>\n",
       "      <td>39916800</td>\n",
       "      <td>3.961563e+07</td>\n",
       "      <td>0.760243</td>\n",
       "    </tr>\n",
       "    <tr>\n",
       "      <th>12</th>\n",
       "      <td>479001600</td>\n",
       "      <td>4.756875e+08</td>\n",
       "      <td>0.696700</td>\n",
       "    </tr>\n",
       "    <tr>\n",
       "      <th>13</th>\n",
       "      <td>6227020800</td>\n",
       "      <td>6.187239e+09</td>\n",
       "      <td>0.642958</td>\n",
       "    </tr>\n",
       "    <tr>\n",
       "      <th>14</th>\n",
       "      <td>87178291200</td>\n",
       "      <td>8.666100e+10</td>\n",
       "      <td>0.596911</td>\n",
       "    </tr>\n",
       "    <tr>\n",
       "      <th>15</th>\n",
       "      <td>1307674368000</td>\n",
       "      <td>1.300431e+12</td>\n",
       "      <td>0.557019</td>\n",
       "    </tr>\n",
       "    <tr>\n",
       "      <th>16</th>\n",
       "      <td>20922789888000</td>\n",
       "      <td>2.081411e+13</td>\n",
       "      <td>0.522124</td>\n",
       "    </tr>\n",
       "    <tr>\n",
       "      <th>17</th>\n",
       "      <td>355687428096000</td>\n",
       "      <td>3.539483e+14</td>\n",
       "      <td>0.491343</td>\n",
       "    </tr>\n",
       "    <tr>\n",
       "      <th>18</th>\n",
       "      <td>6402373705728000</td>\n",
       "      <td>6.372805e+15</td>\n",
       "      <td>0.463988</td>\n",
       "    </tr>\n",
       "    <tr>\n",
       "      <th>19</th>\n",
       "      <td>121645100408832000</td>\n",
       "      <td>1.211128e+17</td>\n",
       "      <td>0.439519</td>\n",
       "    </tr>\n",
       "    <tr>\n",
       "      <th>20</th>\n",
       "      <td>2432902008176640000</td>\n",
       "      <td>2.422787e+18</td>\n",
       "      <td>0.417501</td>\n",
       "    </tr>\n",
       "  </tbody>\n",
       "</table>\n",
       "</div>"
      ],
      "text/plain": [
       "              Factorial      Stirling  Relative error\n",
       "n                                                    \n",
       "1                     1  9.221370e-01        8.443755\n",
       "2                     2  1.919004e+00        4.220712\n",
       "3                     6  5.836210e+00        2.806452\n",
       "4                    24  2.350618e+01        2.100830\n",
       "5                   120  1.180192e+02        1.678399\n",
       "6                   720  7.100782e+02        1.397285\n",
       "7                  5040  4.980396e+03        1.196776\n",
       "8                 40320  3.990240e+04        1.046565\n",
       "9                362880  3.595369e+05        0.929843\n",
       "10              3628800  3.598696e+06        0.836536\n",
       "11             39916800  3.961563e+07        0.760243\n",
       "12            479001600  4.756875e+08        0.696700\n",
       "13           6227020800  6.187239e+09        0.642958\n",
       "14          87178291200  8.666100e+10        0.596911\n",
       "15        1307674368000  1.300431e+12        0.557019\n",
       "16       20922789888000  2.081411e+13        0.522124\n",
       "17      355687428096000  3.539483e+14        0.491343\n",
       "18     6402373705728000  6.372805e+15        0.463988\n",
       "19   121645100408832000  1.211128e+17        0.439519\n",
       "20  2432902008176640000  2.422787e+18        0.417501"
      ]
     },
     "execution_count": 68,
     "metadata": {},
     "output_type": "execute_result"
    }
   ],
   "source": [
    "def Stirling_formula(n):\n",
    "    return ((n/math.exp(1))**n)*(2*math.pi*n)**.5\n",
    "\n",
    "def Relative_error(va,ve):\n",
    "    return abs(va-ve)*100/ve\n",
    "\n",
    "Factorial_list=[math.factorial(i) for i in range(1,21)]\n",
    "Stirling_list =[Stirling_formula(i) for i in range(1,21)]\n",
    "Relative_error_list = [Relative_error(Factorial_list[i], Stirling_list[i]) for i in range(20)]\n",
    "\n",
    "df_Striling = pd.DataFrame({\n",
    "    'n': [i for i in range(1,21)],\n",
    "    'Factorial': Factorial_list,\n",
    "    'Stirling' : Stirling_list,\n",
    "    'Relative error': Relative_error_list\n",
    "})\n",
    "df_Striling= df_Striling.set_index('n')\n",
    "df_Striling"
   ]
  },
  {
   "cell_type": "raw",
   "id": "c716dadf",
   "metadata": {},
   "source": [
    "Problem 15 : Birthday problem. What is the probability that in a group of 20 people (that includes no twins) at least two have the same birthday, if we assume that the probability of having birthday on a given day is 1/365 for every day. First guess. Hint. Consider the complementary event."
   ]
  },
  {
   "cell_type": "code",
   "execution_count": 70,
   "id": "b07640ef",
   "metadata": {},
   "outputs": [
    {
     "name": "stdout",
     "output_type": "stream",
     "text": [
      "Probability of no 2 people having same birthday = perm(365,20)/365**20 =  0.5885616164194201\n",
      "Probability of at least two have the same birthday = 1 - perm(365,20)/365**20 =  0.41143838358057994\n"
     ]
    }
   ],
   "source": [
    "print('Probability of no 2 people having same birthday = perm(365,20)/365**20 = ', math.perm(365,20)/365**20)\n",
    "print('Probability of at least two have the same birthday = 1 - perm(365,20)/365**20 = ', 1- math.perm(365,20)/365**20)"
   ]
  },
  {
   "cell_type": "code",
   "execution_count": null,
   "id": "b1a0410e",
   "metadata": {},
   "outputs": [],
   "source": []
  },
  {
   "cell_type": "code",
   "execution_count": null,
   "id": "725c6276",
   "metadata": {},
   "outputs": [],
   "source": []
  }
 ],
 "metadata": {
  "kernelspec": {
   "display_name": "Python 3",
   "language": "python",
   "name": "python3"
  },
  "language_info": {
   "codemirror_mode": {
    "name": "ipython",
    "version": 3
   },
   "file_extension": ".py",
   "mimetype": "text/x-python",
   "name": "python",
   "nbconvert_exporter": "python",
   "pygments_lexer": "ipython3",
   "version": "3.9.1"
  }
 },
 "nbformat": 4,
 "nbformat_minor": 5
}
