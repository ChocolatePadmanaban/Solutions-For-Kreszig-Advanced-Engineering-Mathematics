{
 "cells": [
  {
   "cell_type": "markdown",
   "id": "fa1f8fb9",
   "metadata": {},
   "source": [
    "Graph a sample space for the experiments:\n",
    "1. Drawing 3 screws from a lot of right-handed and left-handed screws"
   ]
  },
  {
   "cell_type": "code",
   "execution_count": 1,
   "id": "bee6eef5",
   "metadata": {},
   "outputs": [],
   "source": [
    "import numpy as np"
   ]
  },
  {
   "cell_type": "code",
   "execution_count": 3,
   "id": "bba50012",
   "metadata": {},
   "outputs": [
    {
     "name": "stdout",
     "output_type": "stream",
     "text": [
      "Drawing 3 screws from a lot of right-handed and left-handed screws Sample Space: \n",
      " [['r' 'r' 'r']\n",
      " ['r' 'r' 'l']\n",
      " ['r' 'l' 'r']\n",
      " ['r' 'l' 'l']\n",
      " ['l' 'r' 'r']\n",
      " ['l' 'r' 'l']\n",
      " ['l' 'l' 'r']\n",
      " ['l' 'l' 'l']]\n"
     ]
    }
   ],
   "source": [
    "sample_space1 = np.array([['r','r','r'],['r','r','l'],['r','l','r'],['r','l','l'],\n",
    "                          ['l','r','r'],['l','r','l'],['l','l','r'],['l','l','l']])\n",
    "print('Drawing 3 screws from a lot of right-handed and left-handed screws Sample Space: \\n', sample_space1)"
   ]
  },
  {
   "cell_type": "markdown",
   "id": "176cce81",
   "metadata": {},
   "source": [
    "2. Tossing 2 coins"
   ]
  },
  {
   "cell_type": "code",
   "execution_count": 6,
   "id": "fc7d512a",
   "metadata": {},
   "outputs": [
    {
     "name": "stdout",
     "output_type": "stream",
     "text": [
      "Tossing 2 coins :\n",
      " [['h' 'h']\n",
      " ['h' 't']\n",
      " ['t' 'h']\n",
      " ['t' 't']]\n"
     ]
    }
   ],
   "source": [
    "sample_space2=np.array([['h','h'],['h','t'],['t','h'],['t','t']])\n",
    "print(\"Tossing 2 coins :\\n\", sample_space2)"
   ]
  },
  {
   "cell_type": "markdown",
   "id": "dce5d943",
   "metadata": {},
   "source": [
    "3. Rolling 2 dice"
   ]
  },
  {
   "cell_type": "code",
   "execution_count": 11,
   "id": "394a1ed5",
   "metadata": {},
   "outputs": [
    {
     "name": "stdout",
     "output_type": "stream",
     "text": [
      "Sample Space of Rolling 2 Dice: \n",
      " [[1 1]\n",
      " [1 2]\n",
      " [1 3]\n",
      " [1 4]\n",
      " [1 5]\n",
      " [1 6]\n",
      " [2 1]\n",
      " [2 2]\n",
      " [2 3]\n",
      " [2 4]\n",
      " [2 5]\n",
      " [2 6]\n",
      " [3 1]\n",
      " [3 2]\n",
      " [3 3]\n",
      " [3 4]\n",
      " [3 5]\n",
      " [3 6]\n",
      " [4 1]\n",
      " [4 2]\n",
      " [4 3]\n",
      " [4 4]\n",
      " [4 5]\n",
      " [4 6]\n",
      " [5 1]\n",
      " [5 2]\n",
      " [5 3]\n",
      " [5 4]\n",
      " [5 5]\n",
      " [5 6]\n",
      " [6 1]\n",
      " [6 2]\n",
      " [6 3]\n",
      " [6 4]\n",
      " [6 5]\n",
      " [6 6]]\n"
     ]
    }
   ],
   "source": [
    "sample_space3=np.array([[i+1,j+1] for i in range(6) for j in range(6)])\n",
    "print('Sample Space of Rolling 2 Dice: \\n', sample_space3)"
   ]
  },
  {
   "cell_type": "markdown",
   "id": "0435598b",
   "metadata": {},
   "source": [
    "4. Rolling a die until the first Six appears - $\\infty$"
   ]
  },
  {
   "cell_type": "markdown",
   "id": "25727a27",
   "metadata": {},
   "source": [
    "5. Tossing a coin until the first Head appears - $\\infty$"
   ]
  },
  {
   "cell_type": "code",
   "execution_count": null,
   "id": "5c71b3a2",
   "metadata": {},
   "outputs": [],
   "source": []
  }
 ],
 "metadata": {
  "kernelspec": {
   "display_name": "Python 3",
   "language": "python",
   "name": "python3"
  },
  "language_info": {
   "codemirror_mode": {
    "name": "ipython",
    "version": 3
   },
   "file_extension": ".py",
   "mimetype": "text/x-python",
   "name": "python",
   "nbconvert_exporter": "python",
   "pygments_lexer": "ipython3",
   "version": "3.9.1"
  }
 },
 "nbformat": 4,
 "nbformat_minor": 5
}
