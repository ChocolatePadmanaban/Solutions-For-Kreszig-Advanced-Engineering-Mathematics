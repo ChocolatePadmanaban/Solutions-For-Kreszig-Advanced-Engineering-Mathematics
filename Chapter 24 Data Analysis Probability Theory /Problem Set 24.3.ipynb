{
 "cells": [
  {
   "cell_type": "markdown",
   "id": "118a61b3",
   "metadata": {},
   "source": [
    "Problem 1 : In rolling 3 fair dice, what is the probability of obtaining a sum not greater than 16?"
   ]
  },
  {
   "cell_type": "code",
   "execution_count": 4,
   "id": "fb0f4c70",
   "metadata": {},
   "outputs": [
    {
     "name": "stdout",
     "output_type": "stream",
     "text": [
      "Total number of events sample space is : 216\n",
      "Total number of events sample space where sum is not greater than 16 : 212\n",
      "Probability of rolling 3 fair dice  where sum is not greater than 16  : 0.9814814814814815\n"
     ]
    }
   ],
   "source": [
    "Sample_space = [(i,j,k) for i in range(1,7) for j in range(1,7) for k in range(1,7)]\n",
    "print('Total number of events sample space is :' , len(Sample_space))\n",
    "Event_A = []\n",
    "for e in Sample_space:\n",
    "    if sum(e) < 17:\n",
    "        Event_A.append(e)\n",
    "print('Total number of events sample space where sum is not greater than 16 :', len(Event_A))\n",
    "print('Probability of rolling 3 fair dice  where sum is not greater than 16  :', len(Event_A)/len(Sample_space))"
   ]
  },
  {
   "cell_type": "markdown",
   "id": "ee49db8f",
   "metadata": {},
   "source": [
    "Problem 2 : In rolling 2 fair dice, what is the probability of a sum greater than 3 but not exceeding 6? "
   ]
  },
  {
   "cell_type": "code",
   "execution_count": 7,
   "id": "de3e58ed",
   "metadata": {},
   "outputs": [
    {
     "name": "stdout",
     "output_type": "stream",
     "text": [
      "Total number of events sample space is : 36\n",
      "Total number of events in sample space where a sum greater than 3 but not exceeding 6:  12\n",
      "Probability of rolling 2 fair dice where a sum greater than 3 but not exceeding 6:  0.3333333333333333\n"
     ]
    }
   ],
   "source": [
    "Sample_space=[(i,j) for i in range(1,7) for j in range(1,7)]\n",
    "print('Total number of events sample space is :' , len(Sample_space))\n",
    "Event_A = []\n",
    "for e in Sample_space:\n",
    "    if 3 < sum(e) <=6:\n",
    "        Event_A.append(e)\n",
    "print('Total number of events in sample space where a sum greater than 3 but not exceeding 6: ', len(Event_A))\n",
    "print('Probability of rolling 2 fair dice where a sum greater than 3 but not exceeding 6: ', len(Event_A)/len(Sample_space))"
   ]
  },
  {
   "cell_type": "markdown",
   "id": "4424966a",
   "metadata": {},
   "source": [
    "Problem 3:  Three screws are drawn at random from a lot of 100 screws, 10 of which are defective. Find the probability of the event that all 3 screws drawn are nondefective, assuming that we draw (a) with replacement, (b) without replacement."
   ]
  },
  {
   "cell_type": "code",
   "execution_count": null,
   "id": "e4ce5c70",
   "metadata": {},
   "outputs": [],
   "source": []
  }
 ],
 "metadata": {
  "kernelspec": {
   "display_name": "Python 3",
   "language": "python",
   "name": "python3"
  },
  "language_info": {
   "codemirror_mode": {
    "name": "ipython",
    "version": 3
   },
   "file_extension": ".py",
   "mimetype": "text/x-python",
   "name": "python",
   "nbconvert_exporter": "python",
   "pygments_lexer": "ipython3",
   "version": "3.9.1"
  }
 },
 "nbformat": 4,
 "nbformat_minor": 5
}
