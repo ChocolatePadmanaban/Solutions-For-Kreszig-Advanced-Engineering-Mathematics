{
 "cells": [
  {
   "cell_type": "markdown",
   "id": "118a61b3",
   "metadata": {},
   "source": []
  },
  {
   "cell_type": "markdown",
   "id": "39cb3b90",
   "metadata": {},
   "source": [
    "Problem 1 : In rolling 3 fair dice, what is the probability of obtaining a sum not greater than 16?"
   ]
  },
  {
   "cell_type": "code",
   "execution_count": 1,
   "id": "fb0f4c70",
   "metadata": {},
   "outputs": [
    {
     "name": "stdout",
     "output_type": "stream",
     "text": [
      "Total number of events sample space is : 216\n",
      "Total number of events sample space where sum is not greater than 16 : 212\n",
      "Probability of rolling 3 fair dice  where sum is not greater than 16  : 0.9814814814814815\n"
     ]
    }
   ],
   "source": [
    "Sample_space = [(i,j,k) for i in range(1,7) for j in range(1,7) for k in range(1,7)]\n",
    "print('Total number of events sample space is :' , len(Sample_space))\n",
    "Event_A = []\n",
    "for e in Sample_space:\n",
    "    if sum(e) < 17:\n",
    "        Event_A.append(e)\n",
    "print('Total number of events sample space where sum is not greater than 16 :', len(Event_A))\n",
    "print('Probability of rolling 3 fair dice  where sum is not greater than 16  :', len(Event_A)/len(Sample_space))"
   ]
  },
  {
   "cell_type": "markdown",
   "id": "ee49db8f",
   "metadata": {},
   "source": [
    "Problem 2 : In rolling 2 fair dice, what is the probability of a sum greater than 3 but not exceeding 6? "
   ]
  },
  {
   "cell_type": "code",
   "execution_count": 2,
   "id": "de3e58ed",
   "metadata": {},
   "outputs": [
    {
     "name": "stdout",
     "output_type": "stream",
     "text": [
      "Total number of events sample space is : 36\n",
      "Total number of events in sample space where a sum greater than 3 but not exceeding 6:  12\n",
      "Probability of rolling 2 fair dice where a sum greater than 3 but not exceeding 6:  0.3333333333333333\n"
     ]
    }
   ],
   "source": [
    "Sample_space=[(i,j) for i in range(1,7) for j in range(1,7)]\n",
    "print('Total number of events sample space is :' , len(Sample_space))\n",
    "Event_A = []\n",
    "for e in Sample_space:\n",
    "    if 3 < sum(e) <=6:\n",
    "        Event_A.append(e)\n",
    "print('Total number of events in sample space where a sum greater than 3 but not exceeding 6: ', len(Event_A))\n",
    "print('Probability of rolling 2 fair dice where a sum greater than 3 but not exceeding 6: ', len(Event_A)/len(Sample_space))"
   ]
  },
  {
   "cell_type": "markdown",
   "id": "4424966a",
   "metadata": {},
   "source": [
    "Problem 3:  Three screws are drawn at random from a lot of 100 screws, 10 of which are defective. Find the probability of the event that all 3 screws drawn are nondefective, assuming that we draw (a) with replacement, (b) without replacement."
   ]
  },
  {
   "cell_type": "code",
   "execution_count": 3,
   "id": "e4ce5c70",
   "metadata": {},
   "outputs": [
    {
     "name": "stdout",
     "output_type": "stream",
     "text": [
      "the probability of the event that all 3 screws drawn are nondefective assuming that we draw with replacement,  0.7290000000000001\n",
      "the probability of the event that all 3 screws drawn are nondefective assuming that we draw without replacement,  0.7265306122448979\n"
     ]
    }
   ],
   "source": [
    "#Probability of selecting non defective screw with replacement \n",
    "p=(1-10/100)\n",
    "print(\"the probability of the event that all 3 screws drawn are nondefective assuming that we draw with replacement, \", p*p*p)\n",
    "print(\"the probability of the event that all 3 screws drawn are nondefective assuming that we draw without replacement, \", p*(89/99)*(88/98))\n"
   ]
  },
  {
   "cell_type": "markdown",
   "id": "c0c340af",
   "metadata": {},
   "source": [
    "Problem 4: In Prob. 3 find the probability of E: At least 1 defective (i) directly, (ii) by using complements; in both cases (a) and (b)."
   ]
  },
  {
   "cell_type": "code",
   "execution_count": 3,
   "id": "169854d0",
   "metadata": {},
   "outputs": [
    {
     "name": "stdout",
     "output_type": "stream",
     "text": [
      "Probability of atleast one defective screw in 3 draws(direct method):  0.9990000000000001\n",
      "Probability of atleast one defective screw in 3 draws(Complement method):  0.999\n"
     ]
    }
   ],
   "source": [
    "#Probability of selecting defective screw with replacement \n",
    "p=10/100\n",
    "p_atleast_one_defective = (3*p*(1-p)*(1-p))+(3*p*p*(1-p))+(1-p)**3\n",
    "print(\"Probability of atleast one defective screw in 3 draws(direct method): \", p_atleast_one_defective)\n",
    "print(\"Probability of atleast one defective screw in 3 draws(Complement method): \", 1-p**3)"
   ]
  },
  {
   "cell_type": "code",
   "execution_count": 4,
   "id": "1f8f8561",
   "metadata": {},
   "outputs": [
    {
     "name": "stdout",
     "output_type": "stream",
     "text": [
      "Probability of atleast one defective screw in 3 draws(direct method):  0.2734693877551021\n",
      "Probability of atleast one defective screw in 3 draws(Complement method):  0.273469387755102\n"
     ]
    }
   ],
   "source": [
    "#Probability of selecting defective screw without replacement \n",
    "p_atleast_one_defective = (3*10*90*89/100/99/98)+(3*10*9*90/100/99/98)+(10*9*8/100/99/98)\n",
    "print(\"Probability of atleast one defective screw in 3 draws(direct method): \", p_atleast_one_defective)\n",
    "print(\"Probability of atleast one defective screw in 3 draws(Complement method): \", 1-(90*89*88/100/99/98))"
   ]
  },
  {
   "cell_type": "markdown",
   "id": "d42340c7",
   "metadata": {},
   "source": [
    "Problem 5: If a box contains 10 left-handed and 20 right-handed screws, what is the probability of obtaining at least one right-handed screw in drawing 2 screws with replacement?"
   ]
  },
  {
   "cell_type": "code",
   "execution_count": 5,
   "id": "e28d9d5f",
   "metadata": {},
   "outputs": [
    {
     "name": "stdout",
     "output_type": "stream",
     "text": [
      "probability of obtaining at least one right-handed screw in drawing 2 screws with replacement:  0.8888888888888888\n"
     ]
    }
   ],
   "source": [
    "print(\"probability of obtaining at least one right-handed screw in drawing 2 screws with replacement: \",1-(1/3)**2)"
   ]
  },
  {
   "cell_type": "markdown",
   "id": "adeb933d",
   "metadata": {},
   "source": [
    "Problem 6: Will the probability in Prob.5 increase or decrease if we draw without replacement. First guess, then calculate"
   ]
  },
  {
   "cell_type": "code",
   "execution_count": 7,
   "id": "a4904cd1",
   "metadata": {},
   "outputs": [
    {
     "name": "stdout",
     "output_type": "stream",
     "text": [
      "probability of obtaining at least one right-handed screw in drawing 2 screws without replacement:  0.896551724137931\n"
     ]
    }
   ],
   "source": [
    "print(\"probability of obtaining at least one right-handed screw in drawing 2 screws without replacement: \",1-(10*9/30/29))"
   ]
  },
  {
   "cell_type": "markdown",
   "id": "8f9c34ec",
   "metadata": {},
   "source": [
    "Problem 8: If a certain kind of tire has a life exceeding 40,000 miles with probability 0.90, what is the probability that a set of these tires on a car will last longer than 40,000 miles?"
   ]
  },
  {
   "cell_type": "code",
   "execution_count": 9,
   "id": "1d6c161f",
   "metadata": {},
   "outputs": [
    {
     "name": "stdout",
     "output_type": "stream",
     "text": [
      "Since a Set of tires in car is 4, therefore the probability of 4 tires exceeding 40,000 miles is, .9*.9*.9*.9= 0.6561\n"
     ]
    }
   ],
   "source": [
    "print(\"Since a Set of tires in car is 4, therefore the probability of 4 tires exceeding 40,000 miles is, .9*.9*.9*.9=\",.9**4 )"
   ]
  },
  {
   "cell_type": "markdown",
   "id": "83ff3f6c",
   "metadata": {},
   "source": [
    "Problem 9: If we inspect photocopy paper by randomly drawing 5 sheets without replacement from every pack of 500, what is the probability of getting 5 clean sheets although 0.4% of the sheets contain spots?"
   ]
  },
  {
   "cell_type": "code",
   "execution_count": 14,
   "id": "4f16d39d",
   "metadata": {},
   "outputs": [
    {
     "name": "stdout",
     "output_type": "stream",
     "text": [
      " 0.4% of the sheets contain spots therefore sheets with spots = 500*.004= 2.0\n",
      "the probability of getting 5 clean sheets = (498*497*496*495*494/500/499/498/497/496)= 0.9800801603206412\n"
     ]
    }
   ],
   "source": [
    "print(\" 0.4% of the sheets contain spots therefore sheets with spots = 500*.004=\", 500*.004)\n",
    "print(\"the probability of getting 5 clean sheets = (498*497*496*495*494/500/499/498/497/496)=\", (498*497*496*495*494/500/499/498/497/496))"
   ]
  },
  {
   "cell_type": "markdown",
   "id": "54f5a16c",
   "metadata": {},
   "source": [
    "Problem 11 : A batch of 200 iron rods consists of 50 oversized rods, 50 undersized rods, and 100 rods of the desired length. If two rods are drawn at random without replacement, what is the probability of obtaining (a) two rods of the\n",
    "desired length, (b) exactly one of the desired length, (c) none of the desired length?"
   ]
  },
  {
   "cell_type": "code",
   "execution_count": 19,
   "id": "d43735a4",
   "metadata": {},
   "outputs": [
    {
     "name": "stdout",
     "output_type": "stream",
     "text": [
      "two rods are drawn at random without replacement, probability of obtaining two rods of the desired length\n",
      "= (100*99/200/199) =  0.24874371859296482\n",
      "two rods are drawn at random without replacement, probability of obtaining exactly one of the desired length,\n",
      "= (4*100*50/200/199) =  0.5025125628140703\n",
      "two rods are drawn at random without replacement, probability of obtaining none of the desired length \n",
      " = (2*50*50/200/199) + (2*50*49/200/199) =  0.24874371859296482\n"
     ]
    }
   ],
   "source": [
    "print(\"two rods are drawn at random without replacement, probability of obtaining two rods of the desired length\\n= (100*99/200/199) = \", (100*99/200/199))\n",
    "print(\"two rods are drawn at random without replacement, probability of obtaining exactly one of the desired length,\\n= (4*100*50/200/199) = \", (4*100*50/200/199) )\n",
    "print(\"two rods are drawn at random without replacement, probability of obtaining none of the desired length \\n = (2*50*50/200/199) + (2*50*49/200/199) = \",(2*50*50/200/199) + (2*50*49/200/199) )"
   ]
  },
  {
   "cell_type": "markdown",
   "id": "726297e9",
   "metadata": {},
   "source": [
    "Problem 13:  A pressure control apparatus contains 3 electronic tubes. The apparatus will not work unless all tubes are operative. If the probability of failure of each tube during some interval of time is 0.04, what is the corresponding probability of failure of the apparatus?"
   ]
  },
  {
   "cell_type": "code",
   "execution_count": 22,
   "id": "6417499c",
   "metadata": {},
   "outputs": [
    {
     "name": "stdout",
     "output_type": "stream",
     "text": [
      "the corresponding probability of failure of the apparatus = (1-.96**3) = 0.11526400000000014\n"
     ]
    }
   ],
   "source": [
    "print(\"the corresponding probability of failure of the apparatus = (1-.96**3) =\", (1-.96**3))"
   ]
  },
  {
   "cell_type": "markdown",
   "id": "466c780d",
   "metadata": {},
   "source": [
    "Problem 14 : Suppose that in a production of spark plugs the fraction of defective plugs has been constant at 2% over a long time and that this process is controlled every half hour by drawing and inspecting two just produced. Find the probabilities of getting (a) no defectives, (b) 1 defective, (c) 2 defectives. What is the sum of these probabilities?"
   ]
  },
  {
   "cell_type": "code",
   "execution_count": 25,
   "id": "928bc4f1",
   "metadata": {},
   "outputs": [
    {
     "name": "stdout",
     "output_type": "stream",
     "text": [
      "Probability of getting no Defective spark plugs = 98*97/100/99 =  0.9602020202020203\n",
      "Probability of getting 1 Defective spark plugs = 2*98*2/100/99 =  0.039595959595959594\n",
      "Probability of getting 2 Defective spark plugs = 2*1/100/99 =  0.00020202020202020202\n",
      "Sum of Probabilities =  1.0\n"
     ]
    }
   ],
   "source": [
    "print(\"Probability of getting no Defective spark plugs = 98*97/100/99 = \", 98*97/100/99)\n",
    "print(\"Probability of getting 1 Defective spark plugs = 2*98*2/100/99 = \",  2*98*2/100/99)\n",
    "print(\"Probability of getting 2 Defective spark plugs = 2*1/100/99 = \",  2*1/100/99)\n",
    "print(\"Sum of Probabilities = \",(98*97/100/99)+(2*98*2/100/99)+(2*1/100/99) )"
   ]
  },
  {
   "cell_type": "markdown",
   "id": "dd39c570",
   "metadata": {},
   "source": [
    "Problem 15:\n",
    "What gives the greater probability of hitting at least once: (a) hitting with probability 1/2 and firing 1 shot, (b) hitting with probability 1/4 and firing 2 shots, (c) hitting with probability 1/8 and firing 4 shots? First guess."
   ]
  },
  {
   "cell_type": "code",
   "execution_count": 32,
   "id": "1ca87228",
   "metadata": {},
   "outputs": [
    {
     "name": "stdout",
     "output_type": "stream",
     "text": [
      "probability of hitting at least once:(a) hitting with probability 1/2 and firing 1 shot = 1/2 =  0.5\n",
      "probability of hitting at least once:(b) hitting with probability 1/4 and firing 2 shots =1-(1-1/4)**2= 0.4375\n",
      "probability of hitting at least once:(c) hitting with probability 1/8 and firing 4 shots=1-(1-1/8)**4= 0.413818359375\n"
     ]
    }
   ],
   "source": [
    "print(\"probability of hitting at least once:(a) hitting with probability 1/2 and firing 1 shot = 1/2 = \", .5)\n",
    "print(\"probability of hitting at least once:(b) hitting with probability 1/4 and firing 2 shots =1-(1-1/4)**2=\",1-(1-1/4)**2)\n",
    "print(\"probability of hitting at least once:(c) hitting with probability 1/8 and firing 4 shots=1-(1-1/8)**4=\",1-(1-1/8)**4)"
   ]
  },
  {
   "cell_type": "code",
   "execution_count": null,
   "id": "059e9f46",
   "metadata": {},
   "outputs": [],
   "source": []
  }
 ],
 "metadata": {
  "kernelspec": {
   "display_name": "Python 3",
   "language": "python",
   "name": "python3"
  },
  "language_info": {
   "codemirror_mode": {
    "name": "ipython",
    "version": 3
   },
   "file_extension": ".py",
   "mimetype": "text/x-python",
   "name": "python",
   "nbconvert_exporter": "python",
   "pygments_lexer": "ipython3",
   "version": "3.9.1"
  }
 },
 "nbformat": 4,
 "nbformat_minor": 5
}
