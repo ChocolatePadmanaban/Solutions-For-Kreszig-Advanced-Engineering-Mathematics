{
 "cells": [
  {
   "cell_type": "code",
   "execution_count": 1,
   "id": "582de477",
   "metadata": {},
   "outputs": [],
   "source": [
    "import math"
   ]
  },
  {
   "cell_type": "markdown",
   "id": "f1c78371",
   "metadata": {},
   "source": [
    "An ice-cream vendor sells 3 flavors: \n",
    "\n",
    "Vanilla , Chocolate and Mango \n",
    "\n",
    "Assume 10 kids vists the shop \n",
    "\n",
    "Possibilities of selling 10 ice-creams (with repetition) to these 10 kids: "
   ]
  },
  {
   "cell_type": "code",
   "execution_count": 2,
   "id": "88368ce1",
   "metadata": {},
   "outputs": [
    {
     "name": "stdout",
     "output_type": "stream",
     "text": [
      "Lets assume Vanilla - V , Chocolate - C and Mango - M\n",
      "CCCCCCCCCC\n",
      "CCCCCCCCCM\n",
      "CCCCCCCCCV\n",
      "CCCCCCCCMM\n",
      "CCCCCCCCMV\n",
      "CCCCCCCCVV\n",
      "CCCCCCCMMM\n",
      "CCCCCCCMMV\n",
      "CCCCCCCMVV\n",
      "CCCCCCCVVV\n",
      "CCCCCCMMMM\n",
      "CCCCCCMMMV\n",
      "CCCCCCMMVV\n",
      "CCCCCCMVVV\n",
      "CCCCCCVVVV\n",
      "CCCCCMMMMM\n",
      "CCCCCMMMMV\n",
      "CCCCCMMMVV\n",
      "CCCCCMMVVV\n",
      "CCCCCMVVVV\n",
      "CCCCCVVVVV\n",
      "CCCCMMMMMM\n",
      "CCCCMMMMMV\n",
      "CCCCMMMMVV\n",
      "CCCCMMMVVV\n",
      "CCCCMMVVVV\n",
      "CCCCMVVVVV\n",
      "CCCCVVVVVV\n",
      "CCCMMMMMMM\n",
      "CCCMMMMMMV\n",
      "CCCMMMMMVV\n",
      "CCCMMMMVVV\n",
      "CCCMMMVVVV\n",
      "CCCMMVVVVV\n",
      "CCCMVVVVVV\n",
      "CCCVVVVVVV\n",
      "CCMMMMMMMM\n",
      "CCMMMMMMMV\n",
      "CCMMMMMMVV\n",
      "CCMMMMMVVV\n",
      "CCMMMMVVVV\n",
      "CCMMMVVVVV\n",
      "CCMMVVVVVV\n",
      "CCMVVVVVVV\n",
      "CCVVVVVVVV\n",
      "CMMMMMMMMM\n",
      "CMMMMMMMMV\n",
      "CMMMMMMMVV\n",
      "CMMMMMMVVV\n",
      "CMMMMMVVVV\n",
      "CMMMMVVVVV\n",
      "CMMMVVVVVV\n",
      "CMMVVVVVVV\n",
      "CMVVVVVVVV\n",
      "CVVVVVVVVV\n",
      "MMMMMMMMMM\n",
      "MMMMMMMMMV\n",
      "MMMMMMMMVV\n",
      "MMMMMMMVVV\n",
      "MMMMMMVVVV\n",
      "MMMMMVVVVV\n",
      "MMMMVVVVVV\n",
      "MMMVVVVVVV\n",
      "MMVVVVVVVV\n",
      "MVVVVVVVVV\n",
      "VVVVVVVVVV\n",
      "66\n"
     ]
    }
   ],
   "source": [
    "print(\"Lets assume Vanilla - V , Chocolate - C and Mango - M\")\n",
    "\n",
    "def Combinations_with_repetition(list_to_combinate , k):\n",
    "    if k==1:\n",
    "        return [ [i] for i in list_to_combinate]\n",
    "    else:\n",
    "        temp_combinate = Combinations_with_repetition(list_to_combinate,k-1)\n",
    "        return [temp_combinate[i]+[list_to_combinate[j]] for i in range(len(temp_combinate)) for j in range(len(list_to_combinate))]\n",
    "\n",
    "set_of_comb=set([''.join(sorted(i)) for i in Combinations_with_repetition(['V','C','M'],10)])\n",
    "for comb in sorted(set_of_comb):\n",
    "    print(comb)\n",
    "#print(sorted(set_of_comb))\n",
    "print(len(set_of_comb))"
   ]
  },
  {
   "cell_type": "code",
   "execution_count": null,
   "id": "5b5a496a",
   "metadata": {},
   "outputs": [],
   "source": []
  }
 ],
 "metadata": {
  "kernelspec": {
   "display_name": "Python 3",
   "language": "python",
   "name": "python3"
  },
  "language_info": {
   "codemirror_mode": {
    "name": "ipython",
    "version": 3
   },
   "file_extension": ".py",
   "mimetype": "text/x-python",
   "name": "python",
   "nbconvert_exporter": "python",
   "pygments_lexer": "ipython3",
   "version": "3.9.1"
  }
 },
 "nbformat": 4,
 "nbformat_minor": 5
}
