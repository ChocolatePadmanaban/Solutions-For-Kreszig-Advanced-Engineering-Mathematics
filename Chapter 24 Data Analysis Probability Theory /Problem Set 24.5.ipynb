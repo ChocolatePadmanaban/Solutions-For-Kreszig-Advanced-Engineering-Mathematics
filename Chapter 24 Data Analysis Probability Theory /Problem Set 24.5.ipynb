{
 "cells": [
  {
   "cell_type": "code",
   "execution_count": 1,
   "id": "a06bbf10",
   "metadata": {},
   "outputs": [
    {
     "ename": "ModuleNotFoundError",
     "evalue": "No module named 'sympy'",
     "output_type": "error",
     "traceback": [
      "\u001b[0;31m---------------------------------------------------------------------------\u001b[0m",
      "\u001b[0;31mModuleNotFoundError\u001b[0m                       Traceback (most recent call last)",
      "\u001b[0;32m<ipython-input-1-a79678bb2a22>\u001b[0m in \u001b[0;36m<module>\u001b[0;34m\u001b[0m\n\u001b[1;32m      1\u001b[0m \u001b[0;32mimport\u001b[0m \u001b[0mnumpy\u001b[0m \u001b[0;32mas\u001b[0m \u001b[0mnp\u001b[0m\u001b[0;34m\u001b[0m\u001b[0;34m\u001b[0m\u001b[0m\n\u001b[1;32m      2\u001b[0m \u001b[0;32mimport\u001b[0m \u001b[0mmatplotlib\u001b[0m\u001b[0;34m.\u001b[0m\u001b[0mpyplot\u001b[0m \u001b[0;32mas\u001b[0m \u001b[0mplt\u001b[0m\u001b[0;34m\u001b[0m\u001b[0;34m\u001b[0m\u001b[0m\n\u001b[0;32m----> 3\u001b[0;31m \u001b[0;32mfrom\u001b[0m \u001b[0msympy\u001b[0m \u001b[0;32mimport\u001b[0m \u001b[0;34m*\u001b[0m\u001b[0;34m\u001b[0m\u001b[0;34m\u001b[0m\u001b[0m\n\u001b[0m",
      "\u001b[0;31mModuleNotFoundError\u001b[0m: No module named 'sympy'"
     ]
    }
   ],
   "source": [
    "import numpy as np \n",
    "import matplotlib.pyplot as plt \n",
    "from sympy import *"
   ]
  },
  {
   "cell_type": "markdown",
   "id": "599e54ab",
   "metadata": {},
   "source": []
  },
  {
   "cell_type": "markdown",
   "id": "26cc7b75",
   "metadata": {},
   "source": [
    "1. Graph the probability function $f(x) = kx^2 (x = 1, 2, 3,\n",
    "4, 5; k$ suitable $)$ and the distribution function."
   ]
  },
  {
   "cell_type": "code",
   "execution_count": null,
   "id": "4aa90a5f",
   "metadata": {},
   "outputs": [],
   "source": [
    "possible_x = np.array([1,2,3,4,5])\n",
    "possible_x_2_sum=np.sum(np.square(possible_x))\n",
    "k=1/possible_x_2_sum\n",
    "\n",
    "probable_x=k*np.square(possible_x)\n",
    "plt.stem(possible_x,probable_x)\n",
    "plt.title(\"PMF of discrete Variable\")\n",
    "plt.show()"
   ]
  },
  {
   "cell_type": "code",
   "execution_count": null,
   "id": "1a3ad9c7",
   "metadata": {},
   "outputs": [],
   "source": [
    "cummulative_sum=0\n",
    "distribution_func=[]\n",
    "for i in range(len(probable_x)):\n",
    "    cummulative_sum+=probable_x[i]\n",
    "    distribution_func.append(cummulative_sum)\n",
    "data=np.arange(0,7)\n",
    "y=np.array(distribution_func)\n",
    "yn = np.insert(y, 0, 0)\n",
    "\n",
    "fig, ax = plt.subplots()\n",
    "ax.set_facecolor('white')\n",
    "\n",
    "# https://matplotlib.org/api/_as_gen/matplotlib.axes.Axes.hlines.html\n",
    "ax.hlines(y=yn, xmin=data[:-1], xmax=data[1:],\n",
    "          color='red', zorder=1)\n",
    "\n",
    "# https://matplotlib.org/api/_as_gen/matplotlib.axes.Axes.vlines.html\n",
    "ax.vlines(x=data[1:-1], ymin=yn[:-1], ymax=yn[1:], color='red',\n",
    "          linestyle='dashed', zorder=1)\n",
    "\n",
    "ax.scatter(data[1:-1], y, color='red', s=18, zorder=2)\n",
    "ax.scatter(data[1:-1], yn[:-1], color='white', s=18, zorder=2,\n",
    "           edgecolor='red')\n",
    "ax.grid(False)\n",
    "ax.set_xlim(data[0], data[-1])\n",
    "ax.set_ylim([-0.01, 1.01])\n",
    "plt.title(\"CDF of Discrete Variable\")\n",
    "plt.show()"
   ]
  },
  {
   "cell_type": "markdown",
   "id": "aff40e37",
   "metadata": {},
   "source": [
    "2. Graph the density function $f(x) = kx^2 (0\\leq x \\leq 5;\n",
    "k$ suitable$)$ and the distribution function."
   ]
  },
  {
   "cell_type": "code",
   "execution_count": null,
   "id": "a6bffeb2",
   "metadata": {},
   "outputs": [],
   "source": [
    "x, k = symbols('x k')\n",
    "integ = Integral(k*x**2, (x, 0,5))\n",
    "k=float(solve(integ.doit()-1,k )[0])\n",
    "integ = Integral(k*x**2,x)\n",
    "p=plotting.plot(k*x**2, integ.doit(),(x, 0, 5),title=\"PMF and CDF of continious variable\",show=False)\n",
    "p[0].line_color='b'\n",
    "p[1].line_color='r'\n",
    "p.show()"
   ]
  },
  {
   "cell_type": "markdown",
   "id": "cb907389",
   "metadata": {},
   "source": [
    "3. Uniform distribution. Graph $f$ and $F$ when the density of $X$ is $f(x) = k =$ constant if $-2 \\leq x \\leq2$ and 0 elsewhere . Find $P(0 \\leq X \\leq 2)$."
   ]
  },
  {
   "cell_type": "code",
   "execution_count": null,
   "id": "85b31414",
   "metadata": {},
   "outputs": [],
   "source": [
    "x, k = symbols('x k')\n",
    "integ = Integral(k, (x, -2,2))\n",
    "k=float(solve(integ.doit()-1,k)[0])\n",
    "integ = Integral(k,x)\n",
    "p=plotting.plot(k,integ.doit()+.5, (x,-2,2), title=\"PMF and CDF of Uniform distribution\", show=False)\n",
    "p[0].line_color='b'\n",
    "p[1].line_color='r'\n",
    "p.show()\n",
    "print(\"Probability of 0<=x<=2: \",Integral(k,(x,0,2)).doit())\n"
   ]
  },
  {
   "cell_type": "code",
   "execution_count": null,
   "id": "c219baf4",
   "metadata": {},
   "outputs": [],
   "source": []
  },
  {
   "cell_type": "code",
   "execution_count": null,
   "id": "c93fdce8",
   "metadata": {},
   "outputs": [],
   "source": []
  },
  {
   "cell_type": "code",
   "execution_count": null,
   "id": "fa787a6f",
   "metadata": {},
   "outputs": [],
   "source": []
  }
 ],
 "metadata": {
  "kernelspec": {
   "display_name": "Python 3",
   "language": "python",
   "name": "python3"
  },
  "language_info": {
   "codemirror_mode": {
    "name": "ipython",
    "version": 3
   },
   "file_extension": ".py",
   "mimetype": "text/x-python",
   "name": "python",
   "nbconvert_exporter": "python",
   "pygments_lexer": "ipython3",
   "version": "3.9.1"
  }
 },
 "nbformat": 4,
 "nbformat_minor": 5
}
