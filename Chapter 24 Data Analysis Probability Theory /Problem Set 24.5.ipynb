{
 "cells": [
  {
   "cell_type": "code",
   "execution_count": 1,
   "id": "a06bbf10",
   "metadata": {},
   "outputs": [],
   "source": [
    "import numpy as np \n",
    "import matplotlib.pyplot as plt "
   ]
  },
  {
   "cell_type": "code",
   "execution_count": null,
   "id": "394e3d20",
   "metadata": {},
   "outputs": [],
   "source": []
  },
  {
   "cell_type": "markdown",
   "id": "26cc7b75",
   "metadata": {},
   "source": [
    "1. Graph the probability function $f(x) = kx^2 (x = 1, 2, 3,\n",
    "4, 5; k$ suitable $)$ and the distribution function."
   ]
  },
  {
   "cell_type": "code",
   "execution_count": 11,
   "id": "4aa90a5f",
   "metadata": {},
   "outputs": [
    {
     "data": {
      "image/png": "[encoded data removed]",
      "text/plain": [
       "<Figure size 432x288 with 1 Axes>"
      ]
     },
     "metadata": {
      "needs_background": "light"
     },
     "output_type": "display_data"
    }
   ],
   "source": [
    "possible_x = np.array([1,2,3,4,5])\n",
    "possible_x_2_sum=np.sum(np.square(possible_x))\n",
    "k=1/possible_x_2_sum\n",
    "\n",
    "possible_x_2=np.square(possible_x)\n",
    "for i in range(len(possible_x)):\n",
    "    plt.plot([possible_x[i],possible_x[i]],[0,k*possible_x_2[i]], color='red')\n",
    "plt.show()"
   ]
  },
  {
   "cell_type": "code",
   "execution_count": 16,
   "id": "1a3ad9c7",
   "metadata": {},
   "outputs": [],
   "source": [
    "probability_func=k*possible_x_2\n",
    "cummulative_sum=0\n",
    "distribution_func=[]\n",
    "for i in range(len(probability_func)):\n",
    "    cummulative_sum+=probability_func[i]\n",
    "    distribution_func.append(cummulative_sum)\n"
   ]
  },
  {
   "cell_type": "code",
   "execution_count": null,
   "id": "fad706ec",
   "metadata": {},
   "outputs": [],
   "source": []
  }
 ],
 "metadata": {
  "kernelspec": {
   "display_name": "Python 3 (ipykernel)",
   "language": "python",
   "name": "python3"
  },
  "language_info": {
   "codemirror_mode": {
    "name": "ipython",
    "version": 3
   },
   "file_extension": ".py",
   "mimetype": "text/x-python",
   "name": "python",
   "nbconvert_exporter": "python",
   "pygments_lexer": "ipython3",
   "version": "3.8.5"
  }
 },
 "nbformat": 4,
 "nbformat_minor": 5
}
