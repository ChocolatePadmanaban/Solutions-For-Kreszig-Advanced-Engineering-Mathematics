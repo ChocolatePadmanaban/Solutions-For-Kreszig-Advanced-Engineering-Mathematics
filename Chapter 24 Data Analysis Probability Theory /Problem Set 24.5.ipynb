{
 "cells": [
  {
   "cell_type": "code",
   "execution_count": 18,
   "id": "a06bbf10",
   "metadata": {},
   "outputs": [],
   "source": [
    "import numpy as np \n",
    "import matplotlib.pyplot as plt \n",
    "from sympy import *"
   ]
  },
  {
   "cell_type": "markdown",
   "id": "599e54ab",
   "metadata": {},
   "source": []
  },
  {
   "cell_type": "markdown",
   "id": "26cc7b75",
   "metadata": {},
   "source": [
    "1. Graph the probability function $f(x) = kx^2 (x = 1, 2, 3,\n",
    "4, 5; k$ suitable $)$ and the distribution function."
   ]
  },
  {
   "cell_type": "code",
   "execution_count": 14,
   "id": "4aa90a5f",
   "metadata": {},
   "outputs": [
    {
     "data": {
      "image/png": "[encoded data removed]",
      "text/plain": [
       "<Figure size 432x288 with 1 Axes>"
      ]
     },
     "metadata": {
      "needs_background": "light"
     },
     "output_type": "display_data"
    }
   ],
   "source": [
    "possible_x = np.array([1,2,3,4,5])\n",
    "possible_x_2_sum=np.sum(np.square(possible_x))\n",
    "k=1/possible_x_2_sum\n",
    "\n",
    "probable_x=k*np.square(possible_x)\n",
    "plt.stem(possible_x,probable_x)\n",
    "plt.title(\"PMF of discrete Variable\")\n",
    "plt.show()"
   ]
  },
  {
   "cell_type": "code",
   "execution_count": 15,
   "id": "1a3ad9c7",
   "metadata": {},
   "outputs": [
    {
     "data": {
      "image/png": "[encoded data removed]",
      "text/plain": [
       "<Figure size 432x288 with 1 Axes>"
      ]
     },
     "metadata": {
      "needs_background": "light"
     },
     "output_type": "display_data"
    }
   ],
   "source": [
    "cummulative_sum=0\n",
    "distribution_func=[]\n",
    "for i in range(len(probable_x)):\n",
    "    cummulative_sum+=probable_x[i]\n",
    "    distribution_func.append(cummulative_sum)\n",
    "data=np.arange(0,7)\n",
    "y=np.array(distribution_func)\n",
    "yn = np.insert(y, 0, 0)\n",
    "\n",
    "fig, ax = plt.subplots()\n",
    "ax.set_facecolor('white')\n",
    "\n",
    "# https://matplotlib.org/api/_as_gen/matplotlib.axes.Axes.hlines.html\n",
    "ax.hlines(y=yn, xmin=data[:-1], xmax=data[1:],\n",
    "          color='red', zorder=1)\n",
    "\n",
    "# https://matplotlib.org/api/_as_gen/matplotlib.axes.Axes.vlines.html\n",
    "ax.vlines(x=data[1:-1], ymin=yn[:-1], ymax=yn[1:], color='red',\n",
    "          linestyle='dashed', zorder=1)\n",
    "\n",
    "ax.scatter(data[1:-1], y, color='red', s=18, zorder=2)\n",
    "ax.scatter(data[1:-1], yn[:-1], color='white', s=18, zorder=2,\n",
    "           edgecolor='red')\n",
    "ax.grid(False)\n",
    "ax.set_xlim(data[0], data[-1])\n",
    "ax.set_ylim([-0.01, 1.01])\n",
    "plt.title(\"CDF of Discrete Variable\")\n",
    "plt.show()"
   ]
  },
  {
   "cell_type": "markdown",
   "id": "aff40e37",
   "metadata": {},
   "source": [
    "2. Graph the density function $f(x) = kx^2 (0\\leq x \\leq 5;\n",
    "k$ suitable$)$ and the distribution function."
   ]
  },
  {
   "cell_type": "markdown",
   "id": "1b021f62",
   "metadata": {},
   "source": [
    "https://docs.sympy.org/latest/modules/plotting.html"
   ]
  },
  {
   "cell_type": "code",
   "execution_count": 17,
   "id": "a6bffeb2",
   "metadata": {},
   "outputs": [
    {
     "data": {
      "text/plain": [
       "0.01818181818181818"
      ]
     },
     "execution_count": 17,
     "metadata": {},
     "output_type": "execute_result"
    }
   ],
   "source": []
  },
  {
   "cell_type": "code",
   "execution_count": null,
   "id": "259f5d13",
   "metadata": {},
   "outputs": [],
   "source": []
  }
 ],
 "metadata": {
  "kernelspec": {
   "display_name": "Python 3 (ipykernel)",
   "language": "python",
   "name": "python3"
  },
  "language_info": {
   "codemirror_mode": {
    "name": "ipython",
    "version": 3
   },
   "file_extension": ".py",
   "mimetype": "text/x-python",
   "name": "python",
   "nbconvert_exporter": "python",
   "pygments_lexer": "ipython3",
   "version": "3.8.5"
  }
 },
 "nbformat": 4,
 "nbformat_minor": 5
}
