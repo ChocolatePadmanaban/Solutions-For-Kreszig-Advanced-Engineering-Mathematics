{
 "cells": [
  {
   "cell_type": "code",
   "execution_count": 2,
   "metadata": {},
   "outputs": [],
   "source": [
    "from sympy import *\n",
    "from sympy.plotting import plot\n",
    "import matplotlib.pyplot as plt\n",
    "init_printing(use_unicode= True)\n",
    "from sympy.vector import *\n",
    "\n",
    "v,p,q = symbols(\"v p q\")"
   ]
  },
  {
   "cell_type": "code",
   "execution_count": 3,
   "metadata": {},
   "outputs": [
    {
     "data": {
      "image/png": "[encoded data removed]",
      "text/latex": [
       "$$(5)\\mathbf{\\hat{i}_{N}} + \\mathbf{\\hat{j}_{N}}$$"
      ],
      "text/plain": [
       "(5) N_i + N_j"
      ]
     },
     "execution_count": 3,
     "metadata": {},
     "output_type": "execute_result"
    }
   ],
   "source": [
    "#1\n",
    "N = CoordSys3D('N')\n",
    "p = N.i + N.j\n",
    "q = 6*N.i + 2*N.j\n",
    "v = q-p\n",
    "v"
   ]
  },
  {
   "cell_type": "code",
   "execution_count": 4,
   "metadata": {},
   "outputs": [
    {
     "data": {
      "image/png": "[encoded data removed]",
      "text/latex": [
       "$$\\sqrt{26}$$"
      ],
      "text/plain": [
       "√26"
      ]
     },
     "execution_count": 4,
     "metadata": {},
     "output_type": "execute_result"
    }
   ],
   "source": [
    "v.magnitude()"
   ]
  },
  {
   "cell_type": "code",
   "execution_count": 5,
   "metadata": {},
   "outputs": [
    {
     "data": {
      "image/png": "[encoded data removed]",
      "text/latex": [
       "$$(\\frac{5 \\sqrt{26}}{26})\\mathbf{\\hat{i}_{N}} + (\\frac{\\sqrt{26}}{26})\\mathbf{\\hat{j}_{N}}$$"
      ],
      "text/plain": [
       "⎛5⋅√26⎞ N_i + ⎛√26⎞ N_j\n",
       "⎜─────⎟       ⎜───⎟    \n",
       "⎝  26 ⎠       ⎝ 26⎠    "
      ]
     },
     "execution_count": 5,
     "metadata": {},
     "output_type": "execute_result"
    }
   ],
   "source": [
    "v.normalize()"
   ]
  },
  {
   "cell_type": "code",
   "execution_count": 6,
   "metadata": {},
   "outputs": [
    {
     "data": {
      "image/png": "[encoded data removed]",
      "text/latex": [
       "$$\\mathbf{\\hat{i}_{N}} + \\mathbf{\\hat{j}_{N}} - \\mathbf{\\hat{k}_{N}}$$"
      ],
      "text/plain": [
       "N_i + N_j + (-1) N_k"
      ]
     },
     "execution_count": 6,
     "metadata": {},
     "output_type": "execute_result"
    }
   ],
   "source": [
    "#2\n",
    "p = N.i + N.j +N.k\n",
    "q = 2*N.i + 2*N.j\n",
    "v = q-p\n",
    "v"
   ]
  },
  {
   "cell_type": "code",
   "execution_count": 7,
   "metadata": {},
   "outputs": [
    {
     "data": {
      "image/png": "[encoded data removed]",
      "text/latex": [
       "$$\\sqrt{3}$$"
      ],
      "text/plain": [
       "√3"
      ]
     },
     "execution_count": 7,
     "metadata": {},
     "output_type": "execute_result"
    }
   ],
   "source": [
    "v.magnitude()"
   ]
  },
  {
   "cell_type": "code",
   "execution_count": 8,
   "metadata": {},
   "outputs": [
    {
     "data": {
      "image/png": "[encoded data removed]",
      "text/latex": [
       "$$(\\frac{\\sqrt{3}}{3})\\mathbf{\\hat{i}_{N}} + (\\frac{\\sqrt{3}}{3})\\mathbf{\\hat{j}_{N}} + (- \\frac{\\sqrt{3}}{3})\\mathbf{\\hat{k}_{N}}$$"
      ],
      "text/plain": [
       "⎛√3⎞ N_i + ⎛√3⎞ N_j + ⎛-√3 ⎞ N_k\n",
       "⎜──⎟       ⎜──⎟       ⎜────⎟    \n",
       "⎝3 ⎠       ⎝3 ⎠       ⎝ 3  ⎠    "
      ]
     },
     "execution_count": 8,
     "metadata": {},
     "output_type": "execute_result"
    }
   ],
   "source": [
    "v.normalize()"
   ]
  },
  {
   "cell_type": "code",
   "execution_count": 15,
   "metadata": {},
   "outputs": [
    {
     "data": {
      "image/png": "[encoded data removed]",
      "text/latex": [
       "$$(8.5)\\mathbf{\\hat{i}_{N}} + (-4)\\mathbf{\\hat{j}_{N}} + (1.7)\\mathbf{\\hat{k}_{N}}$$"
      ],
      "text/plain": [
       "(8.5) N_i + (-4) N_j + (1.7) N_k"
      ]
     },
     "execution_count": 15,
     "metadata": {},
     "output_type": "execute_result"
    }
   ],
   "source": [
    "#3\n",
    "p = -3*N.i + 4*N.j -.5*N.k\n",
    "q = 5.5*N.i + 1.2*N.k\n",
    "v = q-p\n",
    "v"
   ]
  },
  {
   "cell_type": "code",
   "execution_count": 16,
   "metadata": {},
   "outputs": [
    {
     "data": {
      "image/png": "[encoded data removed]",
      "text/latex": [
       "$$9.5467271878901$$"
      ],
      "text/plain": [
       "9.54672718789010"
      ]
     },
     "execution_count": 16,
     "metadata": {},
     "output_type": "execute_result"
    }
   ],
   "source": [
    "v.magnitude()"
   ]
  },
  {
   "cell_type": "code",
   "execution_count": 17,
   "metadata": {},
   "outputs": [
    {
     "data": {
      "image/png": "[encoded data removed]",
      "text/latex": [
       "$$(0.890357484058216)\\mathbf{\\hat{i}_{N}} + (-0.418991757203867)\\mathbf{\\hat{j}_{N}} + (0.178071496811643)\\mathbf{\\hat{k}_{N}}$$"
      ],
      "text/plain": [
       "(0.890357484058216) N_i + (-0.418991757203867) N_j + (0.178071496811643) N_k"
      ]
     },
     "execution_count": 17,
     "metadata": {},
     "output_type": "execute_result"
    }
   ],
   "source": [
    "v.normalize()"
   ]
  },
  {
   "cell_type": "code",
   "execution_count": 18,
   "metadata": {},
   "outputs": [
    {
     "data": {
      "image/png": "[encoded data removed]",
      "text/latex": [
       "$$(-2)\\mathbf{\\hat{i}_{N}} + (-8)\\mathbf{\\hat{j}_{N}} + (-4)\\mathbf{\\hat{k}_{N}}$$"
      ],
      "text/plain": [
       "(-2) N_i + (-8) N_j + (-4) N_k"
      ]
     },
     "execution_count": 18,
     "metadata": {},
     "output_type": "execute_result"
    }
   ],
   "source": [
    "#4\n",
    "p = 1*N.i + 4*N.j +2*N.k\n",
    "q = -1*N.i -4*N.j -2*N.k\n",
    "v = q-p\n",
    "v"
   ]
  },
  {
   "cell_type": "code",
   "execution_count": 19,
   "metadata": {},
   "outputs": [
    {
     "data": {
      "image/png": "[encoded data removed]",
      "text/latex": [
       "$$2 \\sqrt{21}$$"
      ],
      "text/plain": [
       "2⋅√21"
      ]
     },
     "execution_count": 19,
     "metadata": {},
     "output_type": "execute_result"
    }
   ],
   "source": [
    "v.magnitude()"
   ]
  },
  {
   "cell_type": "code",
   "execution_count": 20,
   "metadata": {},
   "outputs": [
    {
     "data": {
      "image/png": "[encoded data removed]",
      "text/latex": [
       "$$(- \\frac{\\sqrt{21}}{21})\\mathbf{\\hat{i}_{N}} + (- \\frac{4 \\sqrt{21}}{21})\\mathbf{\\hat{j}_{N}} + (- \\frac{2 \\sqrt{21}}{21})\\mathbf{\\hat{k}_{N}}$$"
      ],
      "text/plain": [
       "⎛-√21 ⎞ N_i + ⎛-4⋅√21 ⎞ N_j + ⎛-2⋅√21 ⎞ N_k\n",
       "⎜─────⎟       ⎜───────⎟       ⎜───────⎟    \n",
       "⎝  21 ⎠       ⎝   21  ⎠       ⎝   21  ⎠    "
      ]
     },
     "execution_count": 20,
     "metadata": {},
     "output_type": "execute_result"
    }
   ],
   "source": [
    "v.normalize()"
   ]
  },
  {
   "cell_type": "code",
   "execution_count": 27,
   "metadata": {},
   "outputs": [
    {
     "data": {
      "image/png": "[encoded data removed]",
      "text/latex": [
       "$$(2)\\mathbf{\\hat{i}_{N}} + \\mathbf{\\hat{j}_{N}} + (-2)\\mathbf{\\hat{k}_{N}}$$"
      ],
      "text/plain": [
       "(2) N_i + N_j + (-2) N_k"
      ]
     },
     "execution_count": 27,
     "metadata": {},
     "output_type": "execute_result"
    }
   ],
   "source": [
    "#5\n",
    "p = 0*N.i\n",
    "q = 2*N.i +1*N.j -2*N.k\n",
    "v = q-p\n",
    "v"
   ]
  },
  {
   "cell_type": "code",
   "execution_count": 28,
   "metadata": {},
   "outputs": [
    {
     "data": {
      "image/png": "[encoded data removed]",
      "text/latex": [
       "$$3$$"
      ],
      "text/plain": [
       "3"
      ]
     },
     "execution_count": 28,
     "metadata": {},
     "output_type": "execute_result"
    }
   ],
   "source": [
    "v.magnitude()"
   ]
  },
  {
   "cell_type": "code",
   "execution_count": 29,
   "metadata": {},
   "outputs": [
    {
     "data": {
      "image/png": "[encoded data removed]",
      "text/latex": [
       "$$(\\frac{2}{3})\\mathbf{\\hat{i}_{N}} + (\\frac{1}{3})\\mathbf{\\hat{j}_{N}} + (- \\frac{2}{3})\\mathbf{\\hat{k}_{N}}$$"
      ],
      "text/plain": [
       "(2/3) N_i + (1/3) N_j + (-2/3) N_k"
      ]
     },
     "execution_count": 29,
     "metadata": {},
     "output_type": "execute_result"
    }
   ],
   "source": [
    "v.normalize()"
   ]
  },
  {
   "cell_type": "code",
   "execution_count": 30,
   "metadata": {},
   "outputs": [
    {
     "data": {
      "image/png": "[encoded data removed]",
      "text/latex": [
       "$$(4)\\mathbf{\\hat{i}_{N}} + (2)\\mathbf{\\hat{j}_{N}} + (13)\\mathbf{\\hat{k}_{N}}$$"
      ],
      "text/plain": [
       "(4) N_i + (2) N_j + (13) N_k"
      ]
     },
     "execution_count": 30,
     "metadata": {},
     "output_type": "execute_result"
    }
   ],
   "source": [
    "#6\n",
    "v = 4*N.i\n",
    "p = 2*N.j+ 13*N.k\n",
    "q = p+v\n",
    "q"
   ]
  },
  {
   "cell_type": "code",
   "execution_count": 35,
   "metadata": {},
   "outputs": [
    {
     "data": {
      "image/png": "[encoded data removed]",
      "text/latex": [
       "$$4.03112887414927$$"
      ],
      "text/plain": [
       "4.03112887414927"
      ]
     },
     "execution_count": 35,
     "metadata": {},
     "output_type": "execute_result"
    }
   ],
   "source": [
    "q.magnitude()"
   ]
  },
  {
   "cell_type": "code",
   "execution_count": 32,
   "metadata": {},
   "outputs": [
    {
     "data": {
      "image/png": "[encoded data removed]",
      "text/latex": [
       "$$(4.0)\\mathbf{\\hat{i}_{N}} + (0.5)\\mathbf{\\hat{k}_{N}}$$"
      ],
      "text/plain": [
       "(4.0) N_i + (0.5) N_k"
      ]
     },
     "execution_count": 32,
     "metadata": {},
     "output_type": "execute_result"
    }
   ],
   "source": [
    "#7\n",
    "v = (1/2)*N.i + 3*N.j -(1/4)*N.k\n",
    "p = (7/2)*N.i+(-3)*N.j+ (3/4)*N.k\n",
    "q = p+v\n",
    "q"
   ]
  },
  {
   "cell_type": "code",
   "execution_count": 34,
   "metadata": {},
   "outputs": [
    {
     "data": {
      "image/png": "[encoded data removed]",
      "text/latex": [
       "$$4.03112887414927$$"
      ],
      "text/plain": [
       "4.03112887414927"
      ]
     },
     "execution_count": 34,
     "metadata": {},
     "output_type": "execute_result"
    }
   ],
   "source": [
    "q.magnitude()"
   ]
  },
  {
   "cell_type": "code",
   "execution_count": 36,
   "metadata": {},
   "outputs": [
    {
     "data": {
      "image/png": "[encoded data removed]",
      "text/latex": [
       "$$(13.1)\\mathbf{\\hat{i}_{N}} + (0.8)\\mathbf{\\hat{j}_{N}} + (-2)\\mathbf{\\hat{k}_{N}}$$"
      ],
      "text/plain": [
       "(13.1) N_i + (0.8) N_j + (-2) N_k"
      ]
     },
     "execution_count": 36,
     "metadata": {},
     "output_type": "execute_result"
    }
   ],
   "source": [
    "#8\n",
    "v = 13.1*N.i + .8*N.j -2*N.k\n",
    "p = 0*N.i\n",
    "q = p+v\n",
    "q"
   ]
  },
  {
   "cell_type": "code",
   "execution_count": 37,
   "metadata": {},
   "outputs": [
    {
     "data": {
      "image/png": "[encoded data removed]",
      "text/latex": [
       "$$13.2759180473518$$"
      ],
      "text/plain": [
       "13.2759180473518"
      ]
     },
     "execution_count": 37,
     "metadata": {},
     "output_type": "execute_result"
    }
   ],
   "source": [
    "q.magnitude()"
   ]
  },
  {
   "cell_type": "code",
   "execution_count": 38,
   "metadata": {},
   "outputs": [
    {
     "data": {
      "image/png": "[encoded data removed]",
      "text/latex": [
       "$$(-8)\\mathbf{\\hat{k}_{N}}$$"
      ],
      "text/plain": [
       "(-8) N_k"
      ]
     },
     "execution_count": 38,
     "metadata": {},
     "output_type": "execute_result"
    }
   ],
   "source": [
    "#9\n",
    "v = 6*N.i + 1*N.j -4*N.k\n",
    "p = -6*N.i-1*N.j-4*N.k\n",
    "q = p+v\n",
    "q"
   ]
  },
  {
   "cell_type": "code",
   "execution_count": 39,
   "metadata": {},
   "outputs": [
    {
     "data": {
      "image/png": "[encoded data removed]",
      "text/latex": [
       "$$8$$"
      ],
      "text/plain": [
       "8"
      ]
     },
     "execution_count": 39,
     "metadata": {},
     "output_type": "execute_result"
    }
   ],
   "source": [
    "q.magnitude()"
   ]
  },
  {
   "cell_type": "code",
   "execution_count": 40,
   "metadata": {},
   "outputs": [
    {
     "data": {
      "image/png": "[encoded data removed]",
      "text/latex": [
       "$$\\mathbf{\\hat{0}}$$"
      ],
      "text/plain": [
       "0"
      ]
     },
     "execution_count": 40,
     "metadata": {},
     "output_type": "execute_result"
    }
   ],
   "source": [
    "#10\n",
    "v = - 3*N.j +3*N.k\n",
    "p = 3*N.j- 3*N.k\n",
    "q = p+v\n",
    "q"
   ]
  },
  {
   "cell_type": "code",
   "execution_count": 41,
   "metadata": {},
   "outputs": [
    {
     "data": {
      "image/png": "[encoded data removed]",
      "text/latex": [
       "$$0$$"
      ],
      "text/plain": [
       "0"
      ]
     },
     "execution_count": 41,
     "metadata": {},
     "output_type": "execute_result"
    }
   ],
   "source": [
    "q.magnitude()"
   ]
  },
  {
   "cell_type": "code",
   "execution_count": 42,
   "metadata": {},
   "outputs": [],
   "source": [
    "a = 3*N.i + 2*N.j\n",
    "b = -4*N.i+6*N.j\n",
    "c = 5*N.i-N.j +8*N.k\n",
    "d = 4*N.k"
   ]
  },
  {
   "cell_type": "code",
   "execution_count": 43,
   "metadata": {},
   "outputs": [
    {
     "data": {
      "image/png": "[encoded data removed]",
      "text/latex": [
       "$$(6)\\mathbf{\\hat{i}_{N}} + (4)\\mathbf{\\hat{j}_{N}}$$"
      ],
      "text/plain": [
       "(6) N_i + (4) N_j"
      ]
     },
     "execution_count": 43,
     "metadata": {},
     "output_type": "execute_result"
    }
   ],
   "source": [
    "#11\n",
    "2*a"
   ]
  },
  {
   "cell_type": "code",
   "execution_count": 44,
   "metadata": {},
   "outputs": [
    {
     "data": {
      "image/png": "[encoded data removed]",
      "text/latex": [
       "$$(\\frac{3}{2})\\mathbf{\\hat{i}_{N}} + \\mathbf{\\hat{j}_{N}}$$"
      ],
      "text/plain": [
       "(3/2) N_i + N_j"
      ]
     },
     "execution_count": 44,
     "metadata": {},
     "output_type": "execute_result"
    }
   ],
   "source": [
    "a/2"
   ]
  },
  {
   "cell_type": "code",
   "execution_count": 45,
   "metadata": {},
   "outputs": [
    {
     "data": {
      "image/png": "[encoded data removed]",
      "text/latex": [
       "$$(-3)\\mathbf{\\hat{i}_{N}} + (-2)\\mathbf{\\hat{j}_{N}}$$"
      ],
      "text/plain": [
       "(-3) N_i + (-2) N_j"
      ]
     },
     "execution_count": 45,
     "metadata": {},
     "output_type": "execute_result"
    }
   ],
   "source": [
    "-a"
   ]
  },
  {
   "cell_type": "code",
   "execution_count": 46,
   "metadata": {},
   "outputs": [
    {
     "data": {
      "image/png": "[encoded data removed]",
      "text/latex": [
       "$$(4)\\mathbf{\\hat{i}_{N}} + (7)\\mathbf{\\hat{j}_{N}} + (8)\\mathbf{\\hat{k}_{N}}$$"
      ],
      "text/plain": [
       "(4) N_i + (7) N_j + (8) N_k"
      ]
     },
     "execution_count": 46,
     "metadata": {},
     "output_type": "execute_result"
    }
   ],
   "source": [
    "#12\n",
    "(a+b)+c"
   ]
  },
  {
   "cell_type": "code",
   "execution_count": 47,
   "metadata": {},
   "outputs": [
    {
     "data": {
      "image/png": "[encoded data removed]",
      "text/latex": [
       "$$(4)\\mathbf{\\hat{i}_{N}} + (7)\\mathbf{\\hat{j}_{N}} + (8)\\mathbf{\\hat{k}_{N}}$$"
      ],
      "text/plain": [
       "(4) N_i + (7) N_j + (8) N_k"
      ]
     },
     "execution_count": 47,
     "metadata": {},
     "output_type": "execute_result"
    }
   ],
   "source": [
    "a+(b+c)"
   ]
  },
  {
   "cell_type": "code",
   "execution_count": 50,
   "metadata": {},
   "outputs": [
    {
     "data": {
      "image/png": "[encoded data removed]",
      "text/latex": [
       "$$\\mathbf{\\hat{i}_{N}} + (5)\\mathbf{\\hat{j}_{N}} + (8)\\mathbf{\\hat{k}_{N}}$$"
      ],
      "text/plain": [
       "N_i + (5) N_j + (8) N_k"
      ]
     },
     "execution_count": 50,
     "metadata": {},
     "output_type": "execute_result"
    }
   ],
   "source": [
    "#13\n",
    "b+c"
   ]
  },
  {
   "cell_type": "code",
   "execution_count": 51,
   "metadata": {},
   "outputs": [
    {
     "data": {
      "image/png": "[encoded data removed]",
      "text/latex": [
       "$$\\mathbf{\\hat{i}_{N}} + (5)\\mathbf{\\hat{j}_{N}} + (8)\\mathbf{\\hat{k}_{N}}$$"
      ],
      "text/plain": [
       "N_i + (5) N_j + (8) N_k"
      ]
     },
     "execution_count": 51,
     "metadata": {},
     "output_type": "execute_result"
    }
   ],
   "source": [
    "c+b"
   ]
  },
  {
   "cell_type": "code",
   "execution_count": 52,
   "metadata": {},
   "outputs": [
    {
     "data": {
      "image/png": "[encoded data removed]",
      "text/latex": [
       "$$(15)\\mathbf{\\hat{i}_{N}} + (-3)\\mathbf{\\hat{j}_{N}}$$"
      ],
      "text/plain": [
       "(15) N_i + (-3) N_j"
      ]
     },
     "execution_count": 52,
     "metadata": {},
     "output_type": "execute_result"
    }
   ],
   "source": [
    "#14\n",
    "3*c - 6*d"
   ]
  },
  {
   "cell_type": "code",
   "execution_count": 53,
   "metadata": {},
   "outputs": [
    {
     "data": {
      "image/png": "[encoded data removed]",
      "text/latex": [
       "$$(15)\\mathbf{\\hat{i}_{N}} + (-3)\\mathbf{\\hat{j}_{N}}$$"
      ],
      "text/plain": [
       "(15) N_i + (-3) N_j"
      ]
     },
     "execution_count": 53,
     "metadata": {},
     "output_type": "execute_result"
    }
   ],
   "source": [
    "3*(c- 2*d)"
   ]
  },
  {
   "cell_type": "code",
   "execution_count": 55,
   "metadata": {},
   "outputs": [
    {
     "data": {
      "image/png": "[encoded data removed]",
      "text/latex": [
       "$$(63)\\mathbf{\\hat{i}_{N}} + (-49)\\mathbf{\\hat{j}_{N}} + (56)\\mathbf{\\hat{k}_{N}}$$"
      ],
      "text/plain": [
       "(63) N_i + (-49) N_j + (56) N_k"
      ]
     },
     "execution_count": 55,
     "metadata": {},
     "output_type": "execute_result"
    }
   ],
   "source": [
    "7*(c-b)"
   ]
  },
  {
   "cell_type": "code",
   "execution_count": 56,
   "metadata": {},
   "outputs": [
    {
     "data": {
      "image/png": "[encoded data removed]",
      "text/latex": [
       "$$(63)\\mathbf{\\hat{i}_{N}} + (-49)\\mathbf{\\hat{j}_{N}} + (56)\\mathbf{\\hat{k}_{N}}$$"
      ],
      "text/plain": [
       "(63) N_i + (-49) N_j + (56) N_k"
      ]
     },
     "execution_count": 56,
     "metadata": {},
     "output_type": "execute_result"
    }
   ],
   "source": [
    "7*c -7*b"
   ]
  },
  {
   "cell_type": "code",
   "execution_count": 57,
   "metadata": {},
   "outputs": [
    {
     "data": {
      "image/png": "[encoded data removed]",
      "text/latex": [
       "$$(26)\\mathbf{\\hat{j}_{N}}$$"
      ],
      "text/plain": [
       "(26) N_j"
      ]
     },
     "execution_count": 57,
     "metadata": {},
     "output_type": "execute_result"
    }
   ],
   "source": [
    "4*a +3*b"
   ]
  },
  {
   "cell_type": "code",
   "execution_count": 58,
   "metadata": {},
   "outputs": [
    {
     "data": {
      "image/png": "[encoded data removed]",
      "text/latex": [
       "$$(-26)\\mathbf{\\hat{j}_{N}}$$"
      ],
      "text/plain": [
       "(-26) N_j"
      ]
     },
     "execution_count": 58,
     "metadata": {},
     "output_type": "execute_result"
    }
   ],
   "source": [
    "-4*a -3*b"
   ]
  },
  {
   "cell_type": "code",
   "execution_count": 59,
   "metadata": {},
   "outputs": [
    {
     "data": {
      "image/png": "[encoded data removed]",
      "text/latex": [
       "$$\\sqrt{65}$$"
      ],
      "text/plain": [
       "√65"
      ]
     },
     "execution_count": 59,
     "metadata": {},
     "output_type": "execute_result"
    }
   ],
   "source": [
    "(a+b).magnitude()"
   ]
  },
  {
   "cell_type": "code",
   "execution_count": null,
   "metadata": {},
   "outputs": [],
   "source": []
  }
 ],
 "metadata": {
  "kernelspec": {
   "display_name": "Python 3",
   "language": "python",
   "name": "python3"
  },
  "language_info": {
   "codemirror_mode": {
    "name": "ipython",
    "version": 3
   },
   "file_extension": ".py",
   "mimetype": "text/x-python",
   "name": "python",
   "nbconvert_exporter": "python",
   "pygments_lexer": "ipython3",
   "version": "3.6.4"
  }
 },
 "nbformat": 4,
 "nbformat_minor": 2
}
