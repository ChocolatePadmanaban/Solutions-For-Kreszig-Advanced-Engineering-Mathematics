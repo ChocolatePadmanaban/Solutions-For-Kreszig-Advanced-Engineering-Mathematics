{
 "cells": [
  {
   "cell_type": "code",
   "execution_count": 4,
   "metadata": {},
   "outputs": [],
   "source": [
    "from sympy import *\n",
    "from sympy.plotting import plot\n",
    "import matplotlib.pyplot as plt\n",
    "init_printing(use_unicode= True)\n",
    "from sympy.vector import *\n",
    "\n",
    "v,p,q = symbols(\"v p q\")"
   ]
  },
  {
   "cell_type": "code",
   "execution_count": 7,
   "metadata": {},
   "outputs": [
    {
     "data": {
      "image/png": "[encoded data removed]",
      "text/latex": [
       "$$(5)\\mathbf{\\hat{i}_{N}} + \\mathbf{\\hat{j}_{N}}$$"
      ],
      "text/plain": [
       "(5) N_i + N_j"
      ]
     },
     "execution_count": 7,
     "metadata": {},
     "output_type": "execute_result"
    }
   ],
   "source": [
    "#1\n",
    "N = CoordSys3D('N')\n",
    "p = N.i + N.j\n",
    "q = 6*N.i + 2*N.j\n",
    "v = q-p\n",
    "v"
   ]
  },
  {
   "cell_type": "code",
   "execution_count": 8,
   "metadata": {},
   "outputs": [
    {
     "data": {
      "image/png": "[encoded data removed]",
      "text/latex": [
       "$$\\sqrt{26}$$"
      ],
      "text/plain": [
       "√26"
      ]
     },
     "execution_count": 8,
     "metadata": {},
     "output_type": "execute_result"
    }
   ],
   "source": [
    "v.magnitude()"
   ]
  },
  {
   "cell_type": "code",
   "execution_count": 10,
   "metadata": {},
   "outputs": [
    {
     "data": {
      "image/png": "[encoded data removed]",
      "text/latex": [
       "$$(\\frac{5 \\sqrt{26}}{26})\\mathbf{\\hat{i}_{N}} + (\\frac{\\sqrt{26}}{26})\\mathbf{\\hat{j}_{N}}$$"
      ],
      "text/plain": [
       "⎛5⋅√26⎞ N_i + ⎛√26⎞ N_j\n",
       "⎜─────⎟       ⎜───⎟    \n",
       "⎝  26 ⎠       ⎝ 26⎠    "
      ]
     },
     "execution_count": 10,
     "metadata": {},
     "output_type": "execute_result"
    }
   ],
   "source": [
    "v.normalize()"
   ]
  },
  {
   "cell_type": "code",
   "execution_count": 18,
   "metadata": {},
   "outputs": [
    {
     "data": {
      "image/png": "[encoded data removed]",
      "text/latex": [
       "$$\\mathbf{\\hat{i}_{N}} + \\mathbf{\\hat{j}_{N}} - \\mathbf{\\hat{k}_{N}}$$"
      ],
      "text/plain": [
       "N_i + N_j + (-1) N_k"
      ]
     },
     "execution_count": 18,
     "metadata": {},
     "output_type": "execute_result"
    }
   ],
   "source": [
    "#2\n",
    "p = N.i + N.j +N.k\n",
    "q = 2*N.i + 2*N.j\n",
    "v = q-p\n",
    "v"
   ]
  },
  {
   "cell_type": "code",
   "execution_count": 19,
   "metadata": {},
   "outputs": [
    {
     "data": {
      "image/png": "[encoded data removed]",
      "text/latex": [
       "$$\\sqrt{3}$$"
      ],
      "text/plain": [
       "√3"
      ]
     },
     "execution_count": 19,
     "metadata": {},
     "output_type": "execute_result"
    }
   ],
   "source": [
    "v.magnitude()"
   ]
  },
  {
   "cell_type": "code",
   "execution_count": 20,
   "metadata": {},
   "outputs": [
    {
     "data": {
      "image/png": "[encoded data removed]",
      "text/latex": [
       "$$(\\frac{\\sqrt{3}}{3})\\mathbf{\\hat{i}_{N}} + (\\frac{\\sqrt{3}}{3})\\mathbf{\\hat{j}_{N}} + (- \\frac{\\sqrt{3}}{3})\\mathbf{\\hat{k}_{N}}$$"
      ],
      "text/plain": [
       "⎛√3⎞ N_i + ⎛√3⎞ N_j + ⎛-√3 ⎞ N_k\n",
       "⎜──⎟       ⎜──⎟       ⎜────⎟    \n",
       "⎝3 ⎠       ⎝3 ⎠       ⎝ 3  ⎠    "
      ]
     },
     "execution_count": 20,
     "metadata": {},
     "output_type": "execute_result"
    }
   ],
   "source": [
    "v.normalize()"
   ]
  },
  {
   "cell_type": "code",
   "execution_count": null,
   "metadata": {},
   "outputs": [],
   "source": [
    "#3\n",
    "p = N.i + N.j +N.k\n",
    "q = 2*N.i + 2*N.j\n",
    "v = q-p\n",
    "v"
   ]
  }
 ],
 "metadata": {
  "kernelspec": {
   "display_name": "Python 3",
   "language": "python",
   "name": "python3"
  },
  "language_info": {
   "codemirror_mode": {
    "name": "ipython",
    "version": 3
   },
   "file_extension": ".py",
   "mimetype": "text/x-python",
   "name": "python",
   "nbconvert_exporter": "python",
   "pygments_lexer": "ipython3",
   "version": "3.6.4"
  }
 },
 "nbformat": 4,
 "nbformat_minor": 2
}
